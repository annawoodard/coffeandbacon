{
 "cells": [
  {
   "cell_type": "code",
   "execution_count": null,
   "metadata": {},
   "outputs": [],
   "source": [
    "from tqdm import tqdm\n",
    "import json\n",
    "import time\n",
    "\n",
    "import numpy as np\n",
    "\n",
    "from coffea.util import save, load\n",
    "from coffea import hist\n",
    "from coffea.processor import run_funcx_job\n",
    "from coffea.processor.funcx.executor import funcx_executor\n",
    "\n",
    "import funcx\n",
    "funcx.set_file_logger('/afs/crc.nd.edu/user/a/awoodard/funcx.log')\n",
    "\n",
    "ndt3_uuid = '81404f4b-9b35-4b92-9881-a02fe5e52693'\n",
    "wisconsin_uuid = 'af21d0db-27f2-4906-beba-6baffac18393'\n",
    "chunksize=750000"
   ]
  },
  {
   "cell_type": "code",
   "execution_count": null,
   "metadata": {},
   "outputs": [],
   "source": [
    "with open('metadata/samplefiles.json') as f:\n",
    "    datasets = json.load(f)['Hbb_2017']"
   ]
  },
  {
   "cell_type": "code",
   "execution_count": null,
   "metadata": {},
   "outputs": [],
   "source": [
    "start = time.time()\n",
    "treenames = ['otree', 'Events']  # process mixed skims and full derived trees\n",
    "stageout_path = 'root://deepthought.crc.nd.edu://store/user/awoodard/funcx'\n",
    "\n",
    "final_accumulator = run_funcx_job(\n",
    "    [ndt3_uuid, wisconsin_uuid],\n",
    "    datasets,\n",
    "    treenames,\n",
    "    'boostedHbbProcessor.coffea', # the hbb analysis processor\n",
    "    funcx_executor,\n",
    "    stageout_path,\n",
    "    executor_args={'local_path': '/hadoop/store/user/awoodard/funcx'},\n",
    "    chunksize=chunksize\n",
    ")\n",
    "dt = time.time() - start"
   ]
  },
  {
   "cell_type": "code",
   "execution_count": null,
   "metadata": {},
   "outputs": [],
   "source": [
    "num_events = sum(funcx_executor.counts.values())\n",
    "nbins = sum(sum(arr.size for arr in h._sumw.values()) for h in final_accumulator.values() if isinstance(h, hist.Hist))\n",
    "nfilled = sum(sum(np.sum(arr>0) for arr in h._sumw.values()) for h in final_accumulator.values() if isinstance(h, hist.Hist))\n",
    "\n",
    "print('processed: {:,d} events'.format(num_events))\n",
    "print('total time: {:.2f} min'.format(dt / 60))\n",
    "print('{:.2f} μs/event'.format(dt / num_events * 1e6))\n",
    "print('{:.2f} Mevent/s'.format(num_events / dt / 1e6))\n",
    "\n",
    "print(\"filled {:.1f} bins\".format(nbins/ 1e6))\n",
    "print(\"nonzero bins: {:.1f}%\".format(100 * nfilled / nbins))\n"
   ]
  },
  {
   "cell_type": "code",
   "execution_count": null,
   "metadata": {},
   "outputs": [],
   "source": [
    "save(final_accumulator, 'hists.coffea')"
   ]
  }
 ],
 "metadata": {
  "kernelspec": {
   "display_name": "Python 3",
   "language": "python",
   "name": "python3"
  },
  "language_info": {
   "codemirror_mode": {
    "name": "ipython",
    "version": 3
   },
   "file_extension": ".py",
   "mimetype": "text/x-python",
   "name": "python",
   "nbconvert_exporter": "python",
   "pygments_lexer": "ipython3",
   "version": "3.6.5"
  }
 },
 "nbformat": 4,
 "nbformat_minor": 2
}
