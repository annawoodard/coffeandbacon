{
 "cells": [
  {
   "cell_type": "code",
   "execution_count": 1,
   "metadata": {},
   "outputs": [],
   "source": [
    "import parsl\n",
    "import os\n",
    "import logging\n",
    "from tqdm import tqdm\n",
    "import json\n",
    "import time\n",
    "\n",
    "import numpy as np\n",
    "\n",
    "from parsl.app.app import python_app\n",
    "\n",
    "from coffea.util import save, load\n",
    "from coffea import hist\n",
    "from coffea.processor import run_parsl_job\n",
    "from coffea.processor.parsl.parsl_executor import parsl_executor\n",
    "\n",
    "chunksize=500000"
   ]
  },
  {
   "cell_type": "code",
   "execution_count": 2,
   "metadata": {},
   "outputs": [
    {
     "data": {
      "text/plain": [
       "<parsl.dataflow.dflow.DataFlowKernel at 0x7ffab02d4320>"
      ]
     },
     "execution_count": 2,
     "metadata": {},
     "output_type": "execute_result"
    }
   ],
   "source": [
    "# from configs.unl_condor import config\n",
    "# from configs.unl_slurm import config\n",
    "from configs.notre_dame import config\n",
    "\n",
    "parsl.load(config)"
   ]
  },
  {
   "cell_type": "code",
   "execution_count": 3,
   "metadata": {},
   "outputs": [],
   "source": [
    "with open('metadata/samplefiles.json') as f:\n",
    "    datasets = json.load(f)['Hbb_2017']"
   ]
  },
  {
   "cell_type": "code",
   "execution_count": 4,
   "metadata": {},
   "outputs": [
    {
     "data": {
      "application/vnd.jupyter.widget-view+json": {
       "model_id": "17c763609bdc437c85056b6f8f02a6bd",
       "version_major": 2,
       "version_minor": 0
      },
      "text/plain": [
       "HBox(children=(IntProgress(value=0, description='Preprocessing', max=324, style=ProgressStyle(description_widt…"
      ]
     },
     "metadata": {},
     "output_type": "display_data"
    },
    {
     "name": "stdout",
     "output_type": "stream",
     "text": [
      "\n"
     ]
    },
    {
     "data": {
      "application/vnd.jupyter.widget-view+json": {
       "model_id": "be1f42d089134f1588e4c1d28baa5d7a",
       "version_major": 2,
       "version_minor": 0
      },
      "text/plain": [
       "HBox(children=(IntProgress(value=0, description='Processing', max=791, style=ProgressStyle(description_width='…"
      ]
     },
     "metadata": {},
     "output_type": "display_data"
    },
    {
     "name": "stdout",
     "output_type": "stream",
     "text": [
      "\n"
     ]
    }
   ],
   "source": [
    "start = time.time()\n",
    "treenames = ['otree', 'Events']  # deal with mixed skims and full derived trees\n",
    "final_accumulator = run_parsl_job(\n",
    "    datasets,\n",
    "    treenames,\n",
    "    load('boostedHbbProcessor.coffea'), # the hbb analysis worker\n",
    "    parsl_executor, \n",
    "    executor_args={'config': None},\n",
    "    chunksize=chunksize\n",
    ")\n",
    "dt = time.time() - start"
   ]
  },
  {
   "cell_type": "code",
   "execution_count": 5,
   "metadata": {},
   "outputs": [
    {
     "name": "stdout",
     "output_type": "stream",
     "text": [
      "processed: 290,837,857 events\n",
      "total time: 7.65 min\n",
      "1.58 μs/event\n",
      "0.63 Mevent/s\n",
      "filled 99.2 bins\n",
      "nonzero bins: 1.9%\n"
     ]
    }
   ],
   "source": [
    "num_events = sum(parsl_executor.counts.values())\n",
    "nbins = sum(sum(arr.size for arr in h._sumw.values()) for h in final_accumulator.values() if isinstance(h, hist.Hist))\n",
    "nfilled = sum(sum(np.sum(arr>0) for arr in h._sumw.values()) for h in final_accumulator.values() if isinstance(h, hist.Hist))\n",
    "\n",
    "print('processed: {:,d} events'.format(num_events))\n",
    "print('total time: {:.2f} min'.format(dt / 60))\n",
    "print('{:.2f} μs/event'.format(dt / num_events * 1e6))\n",
    "print('{:.2f} Mevent/s'.format(num_events / dt / 1e6))\n",
    "\n",
    "print(\"filled {:.1f} bins\".format(nbins/ 1e6))\n",
    "print(\"nonzero bins: {:.1f}%\".format(100 * nfilled / nbins))\n"
   ]
  },
  {
   "cell_type": "code",
   "execution_count": null,
   "metadata": {},
   "outputs": [],
   "source": [
    "save(final_accumulator, 'hists.coffea')"
   ]
  },
  {
   "cell_type": "code",
   "execution_count": null,
   "metadata": {},
   "outputs": [],
   "source": [
    "parsl.dfk().cleanup()\n",
    "parsl.clear()"
   ]
  },
  {
   "cell_type": "code",
   "execution_count": 6,
   "metadata": {},
   "outputs": [],
   "source": [
    "import subprocess"
   ]
  },
  {
   "cell_type": "code",
   "execution_count": null,
   "metadata": {},
   "outputs": [],
   "source": []
  }
 ],
 "metadata": {
  "kernelspec": {
   "display_name": "Python 3",
   "language": "python",
   "name": "python3"
  },
  "language_info": {
   "codemirror_mode": {
    "name": "ipython",
    "version": 3
   },
   "file_extension": ".py",
   "mimetype": "text/x-python",
   "name": "python",
   "nbconvert_exporter": "python",
   "pygments_lexer": "ipython3",
   "version": "3.6.5"
  }
 },
 "nbformat": 4,
 "nbformat_minor": 2
}
