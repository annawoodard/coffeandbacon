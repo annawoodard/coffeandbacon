{
 "cells": [
  {
   "cell_type": "code",
   "execution_count": 1,
   "metadata": {},
   "outputs": [
    {
     "name": "stderr",
     "output_type": "stream",
     "text": [
      "/usr/local/share/jupyterhub_python368/lib/python3.6/site-packages/requests/__init__.py:91: RequestsDependencyWarning: urllib3 (1.24.3) or chardet (2.2.1) doesn't match a supported version!\n",
      "  RequestsDependencyWarning)\n"
     ]
    }
   ],
   "source": [
    "import parsl\n",
    "import os\n",
    "import logging\n",
    "from tqdm import tqdm\n",
    "import json\n",
    "import time\n",
    "\n",
    "import numpy as np\n",
    "\n",
    "from parsl.app.app import python_app\n",
    "\n",
    "from coffea.util import save, load\n",
    "from coffea import hist\n",
    "from coffea.processor import run_parsl_job\n",
    "from coffea.processor.parsl.parsl_executor import parsl_executor\n",
    "\n",
    "chunksize=500000"
   ]
  },
  {
   "cell_type": "code",
   "execution_count": 2,
   "metadata": {},
   "outputs": [
    {
     "data": {
      "text/plain": [
       "<parsl.dataflow.dflow.DataFlowKernel at 0x7fa27c143390>"
      ]
     },
     "execution_count": 2,
     "metadata": {},
     "output_type": "execute_result"
    }
   ],
   "source": [
    "# from configs.unl_condor import config\n",
    "# from configs.unl_slurm import config\n",
    "from configs.notre_dame import config\n",
    "\n",
    "parsl.load(config)"
   ]
  },
  {
   "cell_type": "code",
   "execution_count": 3,
   "metadata": {},
   "outputs": [],
   "source": [
    "with open('metadata/samplefiles.json') as f:\n",
    "    datasets = json.load(f)['Hbb_2017']"
   ]
  },
  {
   "cell_type": "code",
   "execution_count": null,
   "metadata": {},
   "outputs": [
    {
     "name": "stdout",
     "output_type": "stream",
     "text": [
      "parsl version: 0.8.0\n"
     ]
    },
    {
     "name": "stderr",
     "output_type": "stream",
     "text": [
      "Preprocessing: 100%|██████████| 324/324 [01:23<00:00,  3.89files/s] \n",
      "Processing:   6%|▌         | 45/791 [03:13<36:33,  2.94s/items]  "
     ]
    }
   ],
   "source": [
    "start = time.time()\n",
    "treenames = ['otree', 'Events']  # deal with mixed skims and full derived trees\n",
    "final_accumulator = run_parsl_job(\n",
    "    datasets,\n",
    "    treenames,\n",
    "    load('boostedHbbProcessor.coffea'), # the hbb analysis worker\n",
    "    parsl_executor, \n",
    "    executor_args={'config': None},\n",
    "    data_flow=parsl.dfk(),\n",
    "    chunksize=chunksize\n",
    ")\n",
    "dt = time.time() - start"
   ]
  },
  {
   "cell_type": "code",
   "execution_count": null,
   "metadata": {},
   "outputs": [],
   "source": [
    "num_events = sum(parsl_executor.counts.values())\n",
    "nbins = sum(sum(arr.size for arr in h._sumw.values()) for h in final_accumulator.values() if isinstance(h, hist.Hist))\n",
    "nfilled = sum(sum(np.sum(arr>0) for arr in h._sumw.values()) for h in final_accumulator.values() if isinstance(h, hist.Hist))\n",
    "\n",
    "print('processed: {:,d} events'.format(num_events))\n",
    "print('total time: {:.2f} min'.format(dt / 60))\n",
    "print('{:.2f} μs/event'.format(dt / num_events * 1e6))\n",
    "print('{:.2f} Mevent/s'.format(num_events / dt / 1e6))\n",
    "\n",
    "print(\"filled {:.1f} bins\".format(nbins/ 1e6))\n",
    "print(\"nonzero bins: {:.1f}%\".format(100 * nfilled / nbins))\n"
   ]
  },
  {
   "cell_type": "code",
   "execution_count": null,
   "metadata": {},
   "outputs": [],
   "source": [
    "save(final_accumulator, 'hists.coffea')"
   ]
  },
  {
   "cell_type": "code",
   "execution_count": null,
   "metadata": {},
   "outputs": [],
   "source": [
    "parsl.dfk().cleanup()\n",
    "parsl.clear()"
   ]
  },
  {
   "cell_type": "code",
   "execution_count": null,
   "metadata": {},
   "outputs": [],
   "source": []
  }
 ],
 "metadata": {
  "kernelspec": {
   "display_name": "Python 3",
   "language": "python",
   "name": "python3"
  },
  "language_info": {
   "codemirror_mode": {
    "name": "ipython",
    "version": 3
   },
   "file_extension": ".py",
   "mimetype": "text/x-python",
   "name": "python",
   "nbconvert_exporter": "python",
   "pygments_lexer": "ipython3",
   "version": "3.6.8"
  }
 },
 "nbformat": 4,
 "nbformat_minor": 2
}
