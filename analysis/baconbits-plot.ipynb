{
 "cells": [
  {
   "cell_type": "code",
   "execution_count": 9,
   "metadata": {},
   "outputs": [],
   "source": [
    "from __future__ import print_function, division\n",
    "from collections import defaultdict, OrderedDict\n",
    "import gzip\n",
    "import lz4.frame as lz4f\n",
    "import cloudpickle as cpkl\n",
    "import json\n",
    "import re\n",
    "import os\n",
    "\n",
    "import uproot\n",
    "#%matplotlib nbagg\n",
    "%matplotlib inline\n",
    "import matplotlib.pyplot as plt\n",
    "import numpy as np\n",
    "\n",
    "from coffea import hist\n",
    "from coffea.hist import plot, export\n",
    "from coffea.util import load"
   ]
  },
  {
   "cell_type": "code",
   "execution_count": 10,
   "metadata": {},
   "outputs": [],
   "source": [
    "# hists_unmapped16 = load('hists-2016.coffea')\n",
    "hists_unmapped17 = load('hists.coffea')\n",
    "hists_unmapped16 = hists_unmapped17"
   ]
  },
  {
   "cell_type": "code",
   "execution_count": 11,
   "metadata": {
    "scrolled": false
   },
   "outputs": [
    {
     "data": {
      "text/plain": [
       "(200, 1200)"
      ]
     },
     "execution_count": 11,
     "metadata": {},
     "output_type": "execute_result"
    },
    {
     "data": {
      "image/png": "[encoded data removed]",
      "text/plain": [
       "<Figure size 432x288 with 1 Axes>"
      ]
     },
     "metadata": {},
     "output_type": "display_data"
    }
   ],
   "source": [
    "process = hist.Cat(\"process\", \"Process\", sorting='placement')\n",
    "process_cat = \"dataset\"\n",
    "\n",
    "v16 = hists_unmapped16['genVpt_noselection'].sum('AK8Puppijet0_isHadronicV')\n",
    "v17 = hists_unmapped17['genVpt_noselection'].sum('AK8Puppijet0_isHadronicV')\n",
    "whats = v16+v17\n",
    "whats.scale({'DYJetsToQQ_HT180_13TeV-madgraphMLM-pythia8': 1.45, 'WJetsToQQ_HT180_13TeV-madgraphMLM-pythia8': 1.35}, axis='dataset')\n",
    "\n",
    "whats = whats.group(process_cat, process, {\n",
    "    '2016 W': [\n",
    "        'WJetsToQQ_HT180_13TeV-madgraphMLM-pythia8'\n",
    "    ],\n",
    "    '2016 Z': [\n",
    "        'DYJetsToQQ_HT180_13TeV-madgraphMLM-pythia8'\n",
    "    ],\n",
    "    \"2017 W\": [\n",
    "        \"WJetsToQQ_HT400to600_qc19_3j_TuneCP5_13TeV\",\n",
    "        \"WJetsToQQ_HT600to800_qc19_3j_TuneCP5_13TeV\",\n",
    "        \"WJetsToQQ_HT-800toInf_qc19_3j_TuneCP5_13TeV\",\n",
    "    ],\n",
    "    \"2017 Z\": [\n",
    "        \"ZJetsToQQ_HT600to800_qc19_4j_TuneCP5_13TeV\",\n",
    "        \"ZJetsToQQ_HT-800toInf_qc19_4j_TuneCP5_13TeV\",\n",
    "        \"ZJetsToQQ_HT400to600_qc19_4j_TuneCP5_13TeV\",\n",
    "    ],\n",
    "})\n",
    "fig, ax, _ = hist.plot1d(whats, overlay='process');\n",
    "ax.set_yscale('log')\n",
    "ax.set_ylim(1, None)\n",
    "ax.set_xlim(200, 1200)"
   ]
  },
  {
   "cell_type": "code",
   "execution_count": 12,
   "metadata": {},
   "outputs": [],
   "source": [
    "fig.savefig('genV_bits.pdf')"
   ]
  },
  {
   "cell_type": "code",
   "execution_count": 13,
   "metadata": {},
   "outputs": [],
   "source": [
    "with open(\"metadata/samplefiles.json\") as fin:\n",
    "    mapping = json.load(fin)\n",
    "process_map = {k2: [\"JetHT\", \"SingleMuon\"] if k2 == \"data_obs\" else list(v2) \n",
    "           for k2,v2 in mapping['Hbb_2017'].items()}\n",
    "out = \"\\n\".join('process_map[\"%s\"] = [\\n%s\\n]' % (k, \"\\n\".join('    \"%s\",' % x for x in v)) for k,v in process_map.items())\n",
    "# print(out)\n"
   ]
  },
  {
   "cell_type": "code",
   "execution_count": 14,
   "metadata": {},
   "outputs": [],
   "source": [
    "# a = hists_unmapped['jetpt_preselection'].sum('AK8Puppijet0_isHadronicV', overflow='all')[\"QCD*\",450:]\n",
    "# fig, ax, _ = hist.plot1d(a, overlay='dataset', error_opts={})\n",
    "# lumi = ax.text(1., 1., r\"%.1f fb$^{-1}$ (13 TeV)\" % 1.,\n",
    "#                 fontsize=16, \n",
    "#                 horizontalalignment='right', \n",
    "#                 verticalalignment='bottom', \n",
    "#                 transform=ax.transAxes\n",
    "#                )"
   ]
  },
  {
   "cell_type": "code",
   "execution_count": 15,
   "metadata": {},
   "outputs": [],
   "source": [
    "process = hist.Cat(\"process\", \"Process\", sorting='placement')\n",
    "process_cat = \"dataset\"\n",
    "process_map = OrderedDict()\n",
    "\n",
    "process_map[\"tthqq125\"] = [\n",
    "    \"ttHTobb_M125_TuneCP5_13TeV_powheg_pythia8\",\n",
    "]\n",
    "process_map[\"whqq125\"] = [\n",
    "    \"WminusH_HToBB_WToQQ_M125_13TeV_powheg_pythia8\",\n",
    "    \"WplusH_HToBB_WToQQ_M125_13TeV_powheg_pythia8\",\n",
    "]\n",
    "process_map[\"zhqq125\"] = [\n",
    "    \"ZH_HToBB_ZToQQ_M125_13TeV_powheg_pythia8\",\n",
    "    \"ggZH_HToBB_ZToQQ_M125_13TeV_powheg_pythia8\",\n",
    "    \"ZH_HToBB_ZToNuNu_M125_13TeV_powheg_pythia8\",\n",
    "]\n",
    "process_map[\"vbfhqq125\"] = [\n",
    "    \"VBFHToBB_M_125_13TeV_powheg_pythia8_weightfix\",\n",
    "]\n",
    "process_map[\"hqq125\"] = [\n",
    "    \"GluGluHToBB_M125_13TeV_powheg_pythia8\",\n",
    "]\n",
    "\n",
    "#process_map[\"hqq125all\"] = [\n",
    "#    \"ttHTobb_M125_TuneCP5_13TeV_powheg_pythia8\",\n",
    "#    \"WminusH_HToBB_WToQQ_M125_13TeV_powheg_pythia8\",\n",
    "#    \"WplusH_HToBB_WToQQ_M125_13TeV_powheg_pythia8\",\n",
    "#    \"ZH_HToBB_ZToQQ_M125_13TeV_powheg_pythia8\",\n",
    "#    \"ggZH_HToBB_ZToQQ_M125_13TeV_powheg_pythia8\",\n",
    "#    \"ZH_HToBB_ZToNuNu_M125_13TeV_powheg_pythia8\",\n",
    "#    \"VBFHToBB_M_125_13TeV_powheg_pythia8_weightfix\",\n",
    "#    \"GluGluHToBB_M125_13TeV_powheg_pythia8\",\n",
    "#]\n",
    "\n",
    "process_map[\"zll\"] = [\n",
    "    \"DYJetsToLL_M_50_HT_2500toInf_TuneCP5_13TeV\",\n",
    "    \"DYJetsToLL_M_50_HT_400to600_TuneCP5_13TeV\",\n",
    "    \"DYJetsToLL_M_50_HT_800to1200_TuneCP5_13TeV\",\n",
    "    \"DYJetsToLL_M_50_HT_1200to2500_TuneCP5_13TeV\",\n",
    "    \"DYJetsToLL_M_50_HT_600to800_TuneCP5_13TeV\",\n",
    "]\n",
    "process_map[\"wlnu\"] = [\n",
    "    \"WJetsToLNu_HT-400To600_TuneCP5_13TeV-madgraphMLM-pythia8\",\n",
    "    \"WJetsToLNu_HT-200To400_TuneCP5_13TeV-madgraphMLM-pythia8\",\n",
    "    \"WJetsToLNu_HT-2500ToInf_TuneCP5_13TeV-madgraphMLM-pythia8\",\n",
    "    \"WJetsToLNu_HT-600To800_TuneCP5_13TeV-madgraphMLM-pythia8\",\n",
    "    \"WJetsToLNu_HT-1200To2500_TuneCP5_13TeV-madgraphMLM-pythia8\",\n",
    "    \"WJetsToLNu_HT-800To1200_TuneCP5_13TeV-madgraphMLM-pythia8\",\n",
    "]\n",
    "\n",
    "process_map[\"vvqq\"] = [\n",
    "    \"WW_TuneCP5_13TeV-pythia8\",\n",
    "    \"ZZ_TuneCP5_13TeV-pythia8\",\n",
    "    \"WZ_TuneCP5_13TeV-pythia8\",\n",
    "]\n",
    "process_map[\"stqq\"] = [\n",
    "    \"ST_tW_antitop_5f_inclusiveDecays_TuneCP5_13TeV-powheg-pythia8\",\n",
    "    \"ST_t-channel_antitop_4f_inclusiveDecays_TuneCP5_13TeV-powhegV2-madspin-pythia8\",\n",
    "    \"ST_tW_top_5f_inclusiveDecays_TuneCP5_13TeV-powheg-pythia8\",\n",
    "    \"ST_t-channel_top_4f_inclusiveDecays_TuneCP5_13TeV-powhegV2-madspin-pythia8\",\n",
    "]\n",
    "process_map[\"tqq\"] = [\n",
    "    \"TTToHadronic_TuneCP5_13TeV_powheg_pythia8\",\n",
    "    \"TTToSemiLeptonic_TuneCP5_13TeV_powheg_pythia8\",\n",
    "    \"TTTo2L2Nu_TuneCP5_13TeV_powheg_pythia8\",\n",
    "]\n",
    "process_map[\"zqq\"] = [\n",
    "    \"ZJetsToQQ_HT600to800_qc19_4j_TuneCP5_13TeV\",\n",
    "    \"ZJetsToQQ_HT-800toInf_qc19_4j_TuneCP5_13TeV\",\n",
    "    \"ZJetsToQQ_HT400to600_qc19_4j_TuneCP5_13TeV\",\n",
    "]\n",
    "\n",
    "process_map[\"wqq\"] = [\n",
    "    \"WJetsToQQ_HT400to600_qc19_3j_TuneCP5_13TeV\",\n",
    "    \"WJetsToQQ_HT600to800_qc19_3j_TuneCP5_13TeV\",\n",
    "    \"WJetsToQQ_HT-800toInf_qc19_3j_TuneCP5_13TeV\",\n",
    "]\n",
    "process_map[\"qcd\"] = [\n",
    "    \"QCD_HT500to700_TuneCP5_13TeV-madgraphMLM-pythia8\",\n",
    "    \"QCD_HT700to1000_TuneCP5_13TeV-madgraphMLM-pythia8\",\n",
    "    \"QCD_HT1500to2000_TuneCP5_13TeV-madgraphMLM-pythia8\",\n",
    "    \"QCD_HT1000to1500_TuneCP5_13TeV-madgraphMLM-pythia8\",\n",
    "    \"QCD_HT2000toInf_TuneCP5_13TeV-madgraphMLM-pythia8\",\n",
    "]\n",
    "process_map[\"data_obs\"] = [\n",
    "    \"JetHT\",\n",
    "    \"SingleMuon\",\n",
    "]\n",
    "\n",
    "# no split signals in stack\n",
    "#map(process_map.__delitem__, ['tthqq125', 'whqq125', 'zhqq125', 'vbfhqq125', 'hqq125'])\n",
    "# ignore muon-CR specific\n",
    "#map(process_map.__delitem__, ['zll', 'wlnu'])\n",
    "\n",
    "hists = {}\n",
    "for key, val in hists_unmapped17.items():\n",
    "    if isinstance(val, hist.Hist):\n",
    "        hists[key] = val.group(process_cat, process, process_map)"
   ]
  },
  {
   "cell_type": "code",
   "execution_count": 16,
   "metadata": {},
   "outputs": [
    {
     "ename": "KeyError",
     "evalue": "'No axis tthqq125 found in <Hist (process,AK8Puppijet0_isHadronicV,systematic,AK8Puppijet0_pt,AK8Puppijet0_msd,AK8Puppijet0_deepdoubleb) instance at 0x7f07436487b8>'",
     "output_type": "error",
     "traceback": [
      "\u001b[0;31m---------------------------------------------------------------------------\u001b[0m",
      "\u001b[0;31mKeyError\u001b[0m                                  Traceback (most recent call last)",
      "\u001b[0;32m<ipython-input-16-efc2ead0e634>\u001b[0m in \u001b[0;36m<module>\u001b[0;34m()\u001b[0m\n\u001b[0;32m----> 1\u001b[0;31m \u001b[0mhists\u001b[0m\u001b[0;34m[\u001b[0m\u001b[0;34m'templates_signalregion'\u001b[0m\u001b[0;34m]\u001b[0m\u001b[0;34m.\u001b[0m\u001b[0mproject\u001b[0m\u001b[0;34m(\u001b[0m\u001b[0;34m'process'\u001b[0m\u001b[0;34m,\u001b[0m \u001b[0;34m'tthqq125'\u001b[0m\u001b[0;34m)\u001b[0m\u001b[0;34m\u001b[0m\u001b[0m\n\u001b[0m",
      "\u001b[0;32m~/.local/lib/python3.6/site-packages/coffea/hist/hist_tools.py\u001b[0m in \u001b[0;36mproject\u001b[0;34m(self, *axes, **kwargs)\u001b[0m\n\u001b[1;32m    983\u001b[0m         \"\"\"\n\u001b[1;32m    984\u001b[0m         \u001b[0moverflow\u001b[0m \u001b[0;34m=\u001b[0m \u001b[0mkwargs\u001b[0m\u001b[0;34m.\u001b[0m\u001b[0mpop\u001b[0m\u001b[0;34m(\u001b[0m\u001b[0;34m'overflow'\u001b[0m\u001b[0;34m,\u001b[0m \u001b[0;34m'none'\u001b[0m\u001b[0;34m)\u001b[0m\u001b[0;34m\u001b[0m\u001b[0m\n\u001b[0;32m--> 985\u001b[0;31m         \u001b[0maxes\u001b[0m \u001b[0;34m=\u001b[0m \u001b[0;34m[\u001b[0m\u001b[0mself\u001b[0m\u001b[0;34m.\u001b[0m\u001b[0maxis\u001b[0m\u001b[0;34m(\u001b[0m\u001b[0max\u001b[0m\u001b[0;34m)\u001b[0m \u001b[0;32mfor\u001b[0m \u001b[0max\u001b[0m \u001b[0;32min\u001b[0m \u001b[0maxes\u001b[0m\u001b[0;34m]\u001b[0m\u001b[0;34m\u001b[0m\u001b[0m\n\u001b[0m\u001b[1;32m    986\u001b[0m         \u001b[0mtoremove\u001b[0m \u001b[0;34m=\u001b[0m \u001b[0;34m[\u001b[0m\u001b[0max\u001b[0m \u001b[0;32mfor\u001b[0m \u001b[0max\u001b[0m \u001b[0;32min\u001b[0m \u001b[0mself\u001b[0m\u001b[0;34m.\u001b[0m\u001b[0maxes\u001b[0m\u001b[0;34m(\u001b[0m\u001b[0;34m)\u001b[0m \u001b[0;32mif\u001b[0m \u001b[0max\u001b[0m \u001b[0;32mnot\u001b[0m \u001b[0;32min\u001b[0m \u001b[0maxes\u001b[0m\u001b[0;34m]\u001b[0m\u001b[0;34m\u001b[0m\u001b[0m\n\u001b[1;32m    987\u001b[0m         \u001b[0;32mreturn\u001b[0m \u001b[0mself\u001b[0m\u001b[0;34m.\u001b[0m\u001b[0msum\u001b[0m\u001b[0;34m(\u001b[0m\u001b[0;34m*\u001b[0m\u001b[0mtoremove\u001b[0m\u001b[0;34m,\u001b[0m \u001b[0moverflow\u001b[0m\u001b[0;34m=\u001b[0m\u001b[0moverflow\u001b[0m\u001b[0;34m)\u001b[0m\u001b[0;34m\u001b[0m\u001b[0m\n",
      "\u001b[0;32m~/.local/lib/python3.6/site-packages/coffea/hist/hist_tools.py\u001b[0m in \u001b[0;36m<listcomp>\u001b[0;34m(.0)\u001b[0m\n\u001b[1;32m    983\u001b[0m         \"\"\"\n\u001b[1;32m    984\u001b[0m         \u001b[0moverflow\u001b[0m \u001b[0;34m=\u001b[0m \u001b[0mkwargs\u001b[0m\u001b[0;34m.\u001b[0m\u001b[0mpop\u001b[0m\u001b[0;34m(\u001b[0m\u001b[0;34m'overflow'\u001b[0m\u001b[0;34m,\u001b[0m \u001b[0;34m'none'\u001b[0m\u001b[0;34m)\u001b[0m\u001b[0;34m\u001b[0m\u001b[0m\n\u001b[0;32m--> 985\u001b[0;31m         \u001b[0maxes\u001b[0m \u001b[0;34m=\u001b[0m \u001b[0;34m[\u001b[0m\u001b[0mself\u001b[0m\u001b[0;34m.\u001b[0m\u001b[0maxis\u001b[0m\u001b[0;34m(\u001b[0m\u001b[0max\u001b[0m\u001b[0;34m)\u001b[0m \u001b[0;32mfor\u001b[0m \u001b[0max\u001b[0m \u001b[0;32min\u001b[0m \u001b[0maxes\u001b[0m\u001b[0;34m]\u001b[0m\u001b[0;34m\u001b[0m\u001b[0m\n\u001b[0m\u001b[1;32m    986\u001b[0m         \u001b[0mtoremove\u001b[0m \u001b[0;34m=\u001b[0m \u001b[0;34m[\u001b[0m\u001b[0max\u001b[0m \u001b[0;32mfor\u001b[0m \u001b[0max\u001b[0m \u001b[0;32min\u001b[0m \u001b[0mself\u001b[0m\u001b[0;34m.\u001b[0m\u001b[0maxes\u001b[0m\u001b[0;34m(\u001b[0m\u001b[0;34m)\u001b[0m \u001b[0;32mif\u001b[0m \u001b[0max\u001b[0m \u001b[0;32mnot\u001b[0m \u001b[0;32min\u001b[0m \u001b[0maxes\u001b[0m\u001b[0;34m]\u001b[0m\u001b[0;34m\u001b[0m\u001b[0m\n\u001b[1;32m    987\u001b[0m         \u001b[0;32mreturn\u001b[0m \u001b[0mself\u001b[0m\u001b[0;34m.\u001b[0m\u001b[0msum\u001b[0m\u001b[0;34m(\u001b[0m\u001b[0;34m*\u001b[0m\u001b[0mtoremove\u001b[0m\u001b[0;34m,\u001b[0m \u001b[0moverflow\u001b[0m\u001b[0;34m=\u001b[0m\u001b[0moverflow\u001b[0m\u001b[0;34m)\u001b[0m\u001b[0;34m\u001b[0m\u001b[0m\n",
      "\u001b[0;32m~/.local/lib/python3.6/site-packages/coffea/hist/hist_tools.py\u001b[0m in \u001b[0;36maxis\u001b[0;34m(self, axis_name)\u001b[0m\n\u001b[1;32m    735\u001b[0m         \u001b[0;32mif\u001b[0m \u001b[0maxis_name\u001b[0m \u001b[0;32min\u001b[0m \u001b[0mself\u001b[0m\u001b[0;34m.\u001b[0m\u001b[0m_axes\u001b[0m\u001b[0;34m:\u001b[0m\u001b[0;34m\u001b[0m\u001b[0m\n\u001b[1;32m    736\u001b[0m             \u001b[0;32mreturn\u001b[0m \u001b[0mself\u001b[0m\u001b[0;34m.\u001b[0m\u001b[0m_axes\u001b[0m\u001b[0;34m[\u001b[0m\u001b[0mself\u001b[0m\u001b[0;34m.\u001b[0m\u001b[0m_axes\u001b[0m\u001b[0;34m.\u001b[0m\u001b[0mindex\u001b[0m\u001b[0;34m(\u001b[0m\u001b[0maxis_name\u001b[0m\u001b[0;34m)\u001b[0m\u001b[0;34m]\u001b[0m\u001b[0;34m\u001b[0m\u001b[0m\n\u001b[0;32m--> 737\u001b[0;31m         \u001b[0;32mraise\u001b[0m \u001b[0mKeyError\u001b[0m\u001b[0;34m(\u001b[0m\u001b[0;34m\"No axis %s found in %r\"\u001b[0m \u001b[0;34m%\u001b[0m \u001b[0;34m(\u001b[0m\u001b[0maxis_name\u001b[0m\u001b[0;34m,\u001b[0m \u001b[0mself\u001b[0m\u001b[0;34m)\u001b[0m\u001b[0;34m)\u001b[0m\u001b[0;34m\u001b[0m\u001b[0m\n\u001b[0m\u001b[1;32m    738\u001b[0m \u001b[0;34m\u001b[0m\u001b[0m\n\u001b[1;32m    739\u001b[0m     \u001b[0;32mdef\u001b[0m \u001b[0maxes\u001b[0m\u001b[0;34m(\u001b[0m\u001b[0mself\u001b[0m\u001b[0;34m)\u001b[0m\u001b[0;34m:\u001b[0m\u001b[0;34m\u001b[0m\u001b[0m\n",
      "\u001b[0;31mKeyError\u001b[0m: 'No axis tthqq125 found in <Hist (process,AK8Puppijet0_isHadronicV,systematic,AK8Puppijet0_pt,AK8Puppijet0_msd,AK8Puppijet0_deepdoubleb) instance at 0x7f07436487b8>'"
     ]
    }
   ],
   "source": [
    "#hists['templates_signalregion'].project('process', 'tthqq125')"
   ]
  },
  {
   "cell_type": "code",
   "execution_count": 17,
   "metadata": {},
   "outputs": [
    {
     "ename": "KeyError",
     "evalue": "'No axis  found in <Hist (process,systematic,AK8Puppijet0_pt,AK8Puppijet0_deepdoubleb) instance at 0x7f07432d56a0>'",
     "output_type": "error",
     "traceback": [
      "\u001b[0;31m---------------------------------------------------------------------------\u001b[0m",
      "\u001b[0;31mKeyError\u001b[0m                                  Traceback (most recent call last)",
      "\u001b[0;32m<ipython-input-17-8358b348b793>\u001b[0m in \u001b[0;36m<module>\u001b[0;34m()\u001b[0m\n\u001b[1;32m      1\u001b[0m x = (hists['templates_muoncontrol']\n\u001b[1;32m      2\u001b[0m          \u001b[0;34m.\u001b[0m\u001b[0msum\u001b[0m\u001b[0;34m(\u001b[0m\u001b[0;34m'AK8Puppijet0_isHadronicV'\u001b[0m\u001b[0;34m,\u001b[0m \u001b[0;34m'AK8Puppijet0_msd'\u001b[0m\u001b[0;34m,\u001b[0m \u001b[0moverflow\u001b[0m\u001b[0;34m=\u001b[0m\u001b[0;34m'all'\u001b[0m\u001b[0;34m)\u001b[0m\u001b[0;34m\u001b[0m\u001b[0m\n\u001b[0;32m----> 3\u001b[0;31m          \u001b[0;34m.\u001b[0m\u001b[0mproject\u001b[0m\u001b[0;34m(\u001b[0m\u001b[0;34m'systematic'\u001b[0m\u001b[0;34m,\u001b[0m \u001b[0;34m''\u001b[0m\u001b[0;34m)\u001b[0m\u001b[0;34m\u001b[0m\u001b[0m\n\u001b[0m\u001b[1;32m      4\u001b[0m          \u001b[0;34m.\u001b[0m\u001b[0msum\u001b[0m\u001b[0;34m(\u001b[0m\u001b[0;34m'AK8Puppijet0_pt'\u001b[0m\u001b[0;34m)\u001b[0m \u001b[0;31m#, slice(600,None))\u001b[0m\u001b[0;34m\u001b[0m\u001b[0m\n\u001b[1;32m      5\u001b[0m     )\n",
      "\u001b[0;32m~/.local/lib/python3.6/site-packages/coffea/hist/hist_tools.py\u001b[0m in \u001b[0;36mproject\u001b[0;34m(self, *axes, **kwargs)\u001b[0m\n\u001b[1;32m    983\u001b[0m         \"\"\"\n\u001b[1;32m    984\u001b[0m         \u001b[0moverflow\u001b[0m \u001b[0;34m=\u001b[0m \u001b[0mkwargs\u001b[0m\u001b[0;34m.\u001b[0m\u001b[0mpop\u001b[0m\u001b[0;34m(\u001b[0m\u001b[0;34m'overflow'\u001b[0m\u001b[0;34m,\u001b[0m \u001b[0;34m'none'\u001b[0m\u001b[0;34m)\u001b[0m\u001b[0;34m\u001b[0m\u001b[0m\n\u001b[0;32m--> 985\u001b[0;31m         \u001b[0maxes\u001b[0m \u001b[0;34m=\u001b[0m \u001b[0;34m[\u001b[0m\u001b[0mself\u001b[0m\u001b[0;34m.\u001b[0m\u001b[0maxis\u001b[0m\u001b[0;34m(\u001b[0m\u001b[0max\u001b[0m\u001b[0;34m)\u001b[0m \u001b[0;32mfor\u001b[0m \u001b[0max\u001b[0m \u001b[0;32min\u001b[0m \u001b[0maxes\u001b[0m\u001b[0;34m]\u001b[0m\u001b[0;34m\u001b[0m\u001b[0m\n\u001b[0m\u001b[1;32m    986\u001b[0m         \u001b[0mtoremove\u001b[0m \u001b[0;34m=\u001b[0m \u001b[0;34m[\u001b[0m\u001b[0max\u001b[0m \u001b[0;32mfor\u001b[0m \u001b[0max\u001b[0m \u001b[0;32min\u001b[0m \u001b[0mself\u001b[0m\u001b[0;34m.\u001b[0m\u001b[0maxes\u001b[0m\u001b[0;34m(\u001b[0m\u001b[0;34m)\u001b[0m \u001b[0;32mif\u001b[0m \u001b[0max\u001b[0m \u001b[0;32mnot\u001b[0m \u001b[0;32min\u001b[0m \u001b[0maxes\u001b[0m\u001b[0;34m]\u001b[0m\u001b[0;34m\u001b[0m\u001b[0m\n\u001b[1;32m    987\u001b[0m         \u001b[0;32mreturn\u001b[0m \u001b[0mself\u001b[0m\u001b[0;34m.\u001b[0m\u001b[0msum\u001b[0m\u001b[0;34m(\u001b[0m\u001b[0;34m*\u001b[0m\u001b[0mtoremove\u001b[0m\u001b[0;34m,\u001b[0m \u001b[0moverflow\u001b[0m\u001b[0;34m=\u001b[0m\u001b[0moverflow\u001b[0m\u001b[0;34m)\u001b[0m\u001b[0;34m\u001b[0m\u001b[0m\n",
      "\u001b[0;32m~/.local/lib/python3.6/site-packages/coffea/hist/hist_tools.py\u001b[0m in \u001b[0;36m<listcomp>\u001b[0;34m(.0)\u001b[0m\n\u001b[1;32m    983\u001b[0m         \"\"\"\n\u001b[1;32m    984\u001b[0m         \u001b[0moverflow\u001b[0m \u001b[0;34m=\u001b[0m \u001b[0mkwargs\u001b[0m\u001b[0;34m.\u001b[0m\u001b[0mpop\u001b[0m\u001b[0;34m(\u001b[0m\u001b[0;34m'overflow'\u001b[0m\u001b[0;34m,\u001b[0m \u001b[0;34m'none'\u001b[0m\u001b[0;34m)\u001b[0m\u001b[0;34m\u001b[0m\u001b[0m\n\u001b[0;32m--> 985\u001b[0;31m         \u001b[0maxes\u001b[0m \u001b[0;34m=\u001b[0m \u001b[0;34m[\u001b[0m\u001b[0mself\u001b[0m\u001b[0;34m.\u001b[0m\u001b[0maxis\u001b[0m\u001b[0;34m(\u001b[0m\u001b[0max\u001b[0m\u001b[0;34m)\u001b[0m \u001b[0;32mfor\u001b[0m \u001b[0max\u001b[0m \u001b[0;32min\u001b[0m \u001b[0maxes\u001b[0m\u001b[0;34m]\u001b[0m\u001b[0;34m\u001b[0m\u001b[0m\n\u001b[0m\u001b[1;32m    986\u001b[0m         \u001b[0mtoremove\u001b[0m \u001b[0;34m=\u001b[0m \u001b[0;34m[\u001b[0m\u001b[0max\u001b[0m \u001b[0;32mfor\u001b[0m \u001b[0max\u001b[0m \u001b[0;32min\u001b[0m \u001b[0mself\u001b[0m\u001b[0;34m.\u001b[0m\u001b[0maxes\u001b[0m\u001b[0;34m(\u001b[0m\u001b[0;34m)\u001b[0m \u001b[0;32mif\u001b[0m \u001b[0max\u001b[0m \u001b[0;32mnot\u001b[0m \u001b[0;32min\u001b[0m \u001b[0maxes\u001b[0m\u001b[0;34m]\u001b[0m\u001b[0;34m\u001b[0m\u001b[0m\n\u001b[1;32m    987\u001b[0m         \u001b[0;32mreturn\u001b[0m \u001b[0mself\u001b[0m\u001b[0;34m.\u001b[0m\u001b[0msum\u001b[0m\u001b[0;34m(\u001b[0m\u001b[0;34m*\u001b[0m\u001b[0mtoremove\u001b[0m\u001b[0;34m,\u001b[0m \u001b[0moverflow\u001b[0m\u001b[0;34m=\u001b[0m\u001b[0moverflow\u001b[0m\u001b[0;34m)\u001b[0m\u001b[0;34m\u001b[0m\u001b[0m\n",
      "\u001b[0;32m~/.local/lib/python3.6/site-packages/coffea/hist/hist_tools.py\u001b[0m in \u001b[0;36maxis\u001b[0;34m(self, axis_name)\u001b[0m\n\u001b[1;32m    735\u001b[0m         \u001b[0;32mif\u001b[0m \u001b[0maxis_name\u001b[0m \u001b[0;32min\u001b[0m \u001b[0mself\u001b[0m\u001b[0;34m.\u001b[0m\u001b[0m_axes\u001b[0m\u001b[0;34m:\u001b[0m\u001b[0;34m\u001b[0m\u001b[0m\n\u001b[1;32m    736\u001b[0m             \u001b[0;32mreturn\u001b[0m \u001b[0mself\u001b[0m\u001b[0;34m.\u001b[0m\u001b[0m_axes\u001b[0m\u001b[0;34m[\u001b[0m\u001b[0mself\u001b[0m\u001b[0;34m.\u001b[0m\u001b[0m_axes\u001b[0m\u001b[0;34m.\u001b[0m\u001b[0mindex\u001b[0m\u001b[0;34m(\u001b[0m\u001b[0maxis_name\u001b[0m\u001b[0;34m)\u001b[0m\u001b[0;34m]\u001b[0m\u001b[0;34m\u001b[0m\u001b[0m\n\u001b[0;32m--> 737\u001b[0;31m         \u001b[0;32mraise\u001b[0m \u001b[0mKeyError\u001b[0m\u001b[0;34m(\u001b[0m\u001b[0;34m\"No axis %s found in %r\"\u001b[0m \u001b[0;34m%\u001b[0m \u001b[0;34m(\u001b[0m\u001b[0maxis_name\u001b[0m\u001b[0;34m,\u001b[0m \u001b[0mself\u001b[0m\u001b[0;34m)\u001b[0m\u001b[0;34m)\u001b[0m\u001b[0;34m\u001b[0m\u001b[0m\n\u001b[0m\u001b[1;32m    738\u001b[0m \u001b[0;34m\u001b[0m\u001b[0m\n\u001b[1;32m    739\u001b[0m     \u001b[0;32mdef\u001b[0m \u001b[0maxes\u001b[0m\u001b[0;34m(\u001b[0m\u001b[0mself\u001b[0m\u001b[0;34m)\u001b[0m\u001b[0;34m:\u001b[0m\u001b[0;34m\u001b[0m\u001b[0m\n",
      "\u001b[0;31mKeyError\u001b[0m: 'No axis  found in <Hist (process,systematic,AK8Puppijet0_pt,AK8Puppijet0_deepdoubleb) instance at 0x7f07432d56a0>'"
     ]
    }
   ],
   "source": [
    "x = (hists['templates_muoncontrol']\n",
    "         .sum('AK8Puppijet0_isHadronicV', 'AK8Puppijet0_msd', overflow='all')\n",
    "         .project('systematic', '')\n",
    "         .sum('AK8Puppijet0_pt') #, slice(600,None))\n",
    "    )\n",
    "\n",
    "xaxis = 'AK8Puppijet0_deepdoubleb'"
   ]
  },
  {
   "cell_type": "code",
   "execution_count": 18,
   "metadata": {},
   "outputs": [],
   "source": [
    "x = (hists['muonpt_muoncontrol']\n",
    "         .sum('AK8Puppijet0_isHadronicV', overflow='all')\n",
    "    )\n",
    "\n",
    "xaxis = 'vmuoLoose0_pt'\n",
    "x = x.rebin(xaxis, hist.Bin(xaxis, \"Leading muon pt\", 25, 0, 500))"
   ]
  },
  {
   "cell_type": "code",
   "execution_count": 19,
   "metadata": {},
   "outputs": [
    {
     "data": {
      "text/plain": [
       "<Hist (process,AK8Puppijet0_pt) instance at 0x7f07432933c8>"
      ]
     },
     "execution_count": 19,
     "metadata": {},
     "output_type": "execute_result"
    }
   ],
   "source": [
    "x = (hists['jetpt_muoncontrol']\n",
    "         .sum('AK8Puppijet0_isHadronicV', overflow='all')\n",
    "    )\n",
    "\n",
    "xaxis = 'AK8Puppijet0_pt'\n",
    "x = x.rebin(xaxis, hist.Bin(xaxis, x.axis(xaxis).label, 40, 400, 1200))\n",
    "x"
   ]
  },
  {
   "cell_type": "code",
   "execution_count": 20,
   "metadata": {},
   "outputs": [
    {
     "data": {
      "text/plain": [
       "<Hist (process,vmuoLoose0_eta) instance at 0x7f0743293908>"
      ]
     },
     "execution_count": 20,
     "metadata": {},
     "output_type": "execute_result"
    }
   ],
   "source": [
    "x = (hists['muoneta_muoncontrol']\n",
    "         .sum('AK8Puppijet0_isHadronicV', overflow='all')\n",
    "    )\n",
    "\n",
    "xaxis = 'vmuoLoose0_eta'\n",
    "x"
   ]
  },
  {
   "cell_type": "code",
   "execution_count": 21,
   "metadata": {},
   "outputs": [
    {
     "data": {
      "text/plain": [
       "<Hist (process,ak4_leadingDeepCSV_dR08) instance at 0x7f0743635c50>"
      ]
     },
     "execution_count": 21,
     "metadata": {},
     "output_type": "execute_result"
    }
   ],
   "source": [
    "hname = 'nminus1_ak4btagMediumDR08_muoncontrol'\n",
    "x = (hists[hname]\n",
    "         .sum('AK8Puppijet0_isHadronicV', 'AK8Puppijet0_deepdoubleb', 'AK8Puppijet0_msd', overflow='all')\n",
    "    )\n",
    "\n",
    "xaxis = 'ak4_leadingDeepCSV_dR08'\n",
    "x.axis(xaxis).label = r'Max(DeepCSV) ($\\Delta R(ak4, ak8)>0.8$)'\n",
    "x"
   ]
  },
  {
   "cell_type": "code",
   "execution_count": 23,
   "metadata": {},
   "outputs": [
    {
     "data": {
      "image/png": "[encoded data removed]",
      "text/plain": [
       "<Figure size 576x576 with 2 Axes>"
      ]
     },
     "metadata": {},
     "output_type": "display_data"
    }
   ],
   "source": [
    "\n",
    "#lumi = 41.1\n",
    "#lumi = 40.56  # JetHT\n",
    "lumi = 38.687  # SingleMuon\n",
    "nodata = re.compile(\"(?!data_obs)\")\n",
    "x.scale({p: lumi for p in x[nodata].identifiers('process')}, axis=\"process\")\n",
    "\n",
    "datasum = x[\"data_obs\"].sum('process', xaxis).values()[()]\n",
    "nodatasum = x[nodata].sum('process', xaxis).values()[()]\n",
    "qcdsum = x[\"qcd\"].sum('process', xaxis).values()[()]\n",
    "#qcdsf = (datasum-nodatasum+qcdsum)/qcdsum\n",
    "qcdsf = 0.5841\n",
    "#x.scale({\"qcd\": 0.78, \"tqq\": 0.84}, axis=\"process\")\n",
    "x.scale({\"qcd\": qcdsf}, axis=\"process\")\n",
    "\n",
    "\n",
    "plt.rcParams.update({\n",
    "    'font.size': 14,\n",
    "    'axes.titlesize': 18,\n",
    "    'axes.labelsize': 18,\n",
    "    'xtick.labelsize': 12,\n",
    "    'ytick.labelsize': 12,\n",
    "    'text.usetex': False,\n",
    "})\n",
    "fig, (ax, rax) = plt.subplots(2, 1, figsize=(8,8), gridspec_kw={\"height_ratios\": (3, 1)}, sharex=True)\n",
    "fig.subplots_adjust(hspace=.07)\n",
    "\n",
    "fill_opts = {\n",
    "    'edgecolor': (0,0,0,0.3),\n",
    "    'alpha': 0.8\n",
    "}\n",
    "error_opts = {\n",
    "    'label':'Stat. Unc.',\n",
    "    'hatch':'///',\n",
    "    'facecolor':'none',\n",
    "    'edgecolor':(0,0,0,.5),\n",
    "    'linewidth': 0\n",
    "}\n",
    "data_err_opts = {\n",
    "    'linestyle':'none',\n",
    "    'marker': '.',\n",
    "    'markersize': 10.,\n",
    "    'color':'k',\n",
    "    'elinewidth': 1,\n",
    "    'emarker': '_'\n",
    "}\n",
    "\n",
    "hist.plot1d(x[nodata],\n",
    "            overlay='process', \n",
    "            ax=ax,\n",
    "            clear=False,\n",
    "            stack=True,\n",
    "            fill_opts=fill_opts,\n",
    "            error_opts=error_opts,\n",
    "            overflow='under'\n",
    "           )\n",
    "#hist.plot1d(x[\"data_obs\"],\n",
    "#            overlay='process',\n",
    "#            ax=ax,\n",
    "#            clear=False,\n",
    "#            error_opts=data_err_opts,\n",
    "#            overflow='under'\n",
    "#           )\n",
    "\n",
    "ax.autoscale(axis='x', tight=True)\n",
    "ax.set_ylim(0, None)\n",
    "#ax.set_ylim(0, 800)\n",
    "#ax.set_yscale('log')\n",
    "\n",
    "ax.set_xlabel(None)\n",
    "ax.ticklabel_format(axis='x', style='sci')\n",
    "leg = ax.legend(title='Single-$\\mu$ CR',ncol=2)\n",
    "#leg = ax.legend(title='Signal region ($ddb>-\\infty$)', )\n",
    "#leg = ax.legend(title='Preselection', )\n",
    "[t.set_text('qcd (sf=%.2f)' % qcdsf) for t in leg.get_texts() if t.get_text()=='qcd']\n",
    "\n",
    "\n",
    "hist.plotratio(x[\"data_obs\"].sum(\"process\"), x[nodata].sum(\"process\"), \n",
    "               ax=rax,\n",
    "               error_opts=data_err_opts, \n",
    "               denom_fill_opts={},\n",
    "               guide_opts={},\n",
    "               unc='num',\n",
    "               overflow='under'\n",
    "              )\n",
    "rax.set_ylabel('Ratio')\n",
    "rax.set_ylim(0.5, 1.5)\n",
    "\n",
    "coffee = plt.text(0., 1., u\"CMS\",\n",
    "                  fontsize=18,\n",
    "                  fontweight='bold',\n",
    "                  horizontalalignment='left', \n",
    "                  verticalalignment='bottom', \n",
    "                  transform=ax.transAxes\n",
    "                 )\n",
    "lumi = plt.text(1., 1., r\"%.1f fb$^{-1}$ (13 TeV)\" % lumi,\n",
    "                fontsize=16, \n",
    "                horizontalalignment='right', \n",
    "                verticalalignment='bottom', \n",
    "                transform=ax.transAxes\n",
    "               )\n"
   ]
  },
  {
   "cell_type": "code",
   "execution_count": 24,
   "metadata": {},
   "outputs": [],
   "source": [
    "fig.savefig(\"%s.pdf\" % hname)"
   ]
  },
  {
   "cell_type": "code",
   "execution_count": null,
   "metadata": {},
   "outputs": [],
   "source": [
    "qcdsf"
   ]
  },
  {
   "cell_type": "code",
   "execution_count": null,
   "metadata": {},
   "outputs": [],
   "source": [
    "import json\n",
    "import subprocess\n",
    "with open('metadata/samplefiles.json') as f:\n",
    "    datasets = json.load(f)['Hbb_2017']"
   ]
  },
  {
   "cell_type": "code",
   "execution_count": null,
   "metadata": {},
   "outputs": [],
   "source": [
    "for fn in sum(datasets.values(), []):\n",
    "    subprocess.call('xrdcp {} /hadoop/store/user/awoodard/data'.format(fn), shell=True)"
   ]
  },
  {
   "cell_type": "code",
   "execution_count": null,
   "metadata": {},
   "outputs": [],
   "source": []
  }
 ],
 "metadata": {
  "kernelspec": {
   "display_name": "Python 3",
   "language": "python",
   "name": "python3"
  }
 },
 "nbformat": 4,
 "nbformat_minor": 2
}
