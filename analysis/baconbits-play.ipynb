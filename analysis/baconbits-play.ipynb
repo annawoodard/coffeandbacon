{
 "cells": [
  {
   "cell_type": "code",
   "execution_count": 1,
   "metadata": {},
   "outputs": [],
   "source": [
    "from __future__ import print_function, division\n",
    "from collections import defaultdict, OrderedDict\n",
    "import lz4.frame as lz4f\n",
    "import pickle\n",
    "import json\n",
    "import re\n",
    "\n",
    "import uproot\n",
    "%matplotlib nbagg\n",
    "import matplotlib.pyplot as plt\n",
    "import numpy as np\n",
    "\n",
    "from coffea import hist\n",
    "from coffea.util import load"
   ]
  },
  {
   "cell_type": "code",
   "execution_count": 2,
   "metadata": {},
   "outputs": [],
   "source": [
    "import scipy.interpolate\n",
    "\n",
    "def roc(hist, bkg, sig, direction=-1):\n",
    "    ax = hist.axes()[-1]\n",
    "    bkgvals = hist.project(\"process\", bkg).values()[()]\n",
    "    sigvals = hist.project(\"process\", sig).values()[()]\n",
    "    bkgeff_cut = np.cumsum(bkgvals[::direction])\n",
    "    bkgeff_cut = bkgeff_cut[::direction] / bkgeff_cut[-1]\n",
    "    sigeff_cut = np.cumsum(sigvals[::direction])\n",
    "    sigeff_cut = sigeff_cut[::direction] / sigeff_cut[-1]\n",
    "    interp = scipy.interpolate.interp1d(ax.centers(), np.c_[bkgeff_cut, sigeff_cut], axis=0, )\n",
    "    return ax.centers(), interp"
   ]
  },
  {
   "cell_type": "code",
   "execution_count": 3,
   "metadata": {},
   "outputs": [
    {
     "data": {
      "application/vnd.jupyter.widget-view+json": {
       "model_id": "00b554ca6ce641648f279296695e2a4f",
       "version_major": 2,
       "version_minor": 0
      },
      "text/plain": [
       "IntSlider(value=0)"
      ]
     },
     "metadata": {},
     "output_type": "display_data"
    }
   ],
   "source": [
    "import ipywidgets as widgets\n",
    "widgets.IntSlider()"
   ]
  },
  {
   "cell_type": "code",
   "execution_count": 4,
   "metadata": {},
   "outputs": [
    {
     "name": "stdout",
     "output_type": "stream",
     "text": [
      "Histograms: ['sumw', 'genVpt_noselection', 'jetpt_preselection', 'jeteta_preselection', 'jetpt_muoncontrol', 'muonpt_muoncontrol', 'muoneta_muoncontrol', 'jetpt_signalregion', 'sculpt_signalregion', 'ddb_noselection', 'ddb_signalregion', 'opposite_ak8_n3sdb1_signalregion', 'opposite_ak8_tau32_signalregion', 'opposite_ak8_msd_signalregion', 'njets_ak4_signalregion', 'nminus1_antiak4btagMediumOppHem_signalregion', 'nminus1_pfmet_signalregion', 'nminus1_n2ddtPass_signalregion', 'nminus1_ak4btagMediumDR08_muoncontrol', 'nminus1_muonDphiAK8_muoncontrol', 'templates_signalregion', 'templates_muoncontrol', 'templates_hCCsignalregion', 'templates_hCCmuoncontrol', '_bytesread']\n"
     ]
    }
   ],
   "source": [
    "hists_unmapped = load('hists.coffea')\n",
    "    \n",
    "print(\"Histograms:\", list(hists_unmapped.keys()))"
   ]
  },
  {
   "cell_type": "code",
   "execution_count": 5,
   "metadata": {},
   "outputs": [
    {
     "name": "stderr",
     "output_type": "stream",
     "text": [
      "/afs/crc.nd.edu/user/a/awoodard/coffea/coffea/hist/hist_tools.py:824: FutureWarning: Hist.project() has been renamed to Hist.integrate().  In the future, Hist.project() will provide different functionality\n",
      "  warnings.warn(\"Hist.project() has been renamed to Hist.integrate().  In the future, Hist.project() will provide different functionality\", FutureWarning)\n"
     ]
    },
    {
     "name": "stdout",
     "output_type": "stream",
     "text": [
      "                                                                         dataset V(lv)  No V V(qq) W(ud)b W(cs)b\n",
      "                                           GluGluHToBB_M125_13TeV_powheg_pythia8     0     0    86     0     0\n",
      "                                   WplusH_HToCC_WToLNu_M125_13TeV_powheg_pythia8     0     0     0     0     0\n",
      "                      GluGluHToCC_M125_LHEHpT_250_Inf_13TeV_amcatnloFXFX_pythia8     0     0     2     0     0\n",
      "                              QCD_HT1000to1500_TuneCP5_13TeV-madgraphMLM-pythia8     0 11117     0     0     0\n",
      "                                QCD_HT500to700_TuneCP5_13TeV-madgraphMLM-pythia8     0  5021     0     0     0\n",
      "                                    WplusH_HToBB_WToQQ_M125_13TeV_powheg_pythia8     0     0   138     0     0\n",
      "                                    WplusH_HToCC_WToQQ_M125_13TeV_powheg_pythia8     0     0     0     0     0\n",
      "                       WJetsToLNu_HT-800To1200_TuneCP5_13TeV-madgraphMLM-pythia8     0    11     0     0     0\n",
      "                        WJetsToLNu_HT-200To400_TuneCP5_13TeV-madgraphMLM-pythia8     0     0     0     0     0\n",
      "                      GluGluHToBB_M125_LHEHpT_250_Inf_13TeV_amcatnloFXFX_pythia8     0    -0   197     0     0\n",
      "                      WJetsToLNu_HT-1200To2500_TuneCP5_13TeV-madgraphMLM-pythia8     0     4     0     0     0\n",
      "                                       DYJetsToLL_M_50_HT_600to800_TuneCP5_13TeV     0     4     0     0     0\n",
      "                                   WminusH_HToCC_WToQQ_M125_13TeV_powheg_pythia8     0     0     0     0     0\n",
      "                             GluGluHToBB_M-125_13TeV_powheg_MINLO_NNLOPS_pythia8     0     0 17060     0     0\n",
      "                                      ZJetsToQQ_HT400to600_qc19_4j_TuneCP5_13TeV     0     0   409     0     0\n",
      "                                      ggZH_HToBB_ZToQQ_M125_13TeV_powheg_pythia8     0     1    14     0     0\n",
      "                                        ZH_HToBB_ZToQQ_M125_13TeV_powheg_pythia8     0    12   116     0     0\n",
      "                                     WJetsToQQ_HT-800toInf_qc19_3j_TuneCP5_13TeV     0   109   121     0     0\n",
      "                                        ZH_HToCC_ZToLL_M125_13TeV_powheg_pythia8     0     0     0     0     0\n",
      "                                   WminusH_HToBB_WToQQ_M125_13TeV_powheg_pythia8     0     0    94     0     0\n",
      "                                                        ZZ_TuneCP5_13TeV-pythia8     0   545     0     0     0\n",
      "                        WJetsToLNu_HT-400To600_TuneCP5_13TeV-madgraphMLM-pythia8     0     2     0     0     0\n",
      "                                   TTToSemiLeptonic_TuneCP5_13TeV_powheg_pythia8  2705    35    58   426   503\n",
      "                                       DYJetsToLL_M_50_HT_400to600_TuneCP5_13TeV     0    12     0     0     0\n",
      "                               QCD_HT700to1000_TuneCP5_13TeV-madgraphMLM-pythia8     0  9888     0     0     0\n",
      "  ST_t-channel_antitop_4f_inclusiveDecays_TuneCP5_13TeV-powhegV2-madspin-pythia8   394   307   115   192   815\n",
      "                              QCD_HT1500to2000_TuneCP5_13TeV-madgraphMLM-pythia8     0  1071     0     0     0\n",
      "                               QCD_HT2000toInf_TuneCP5_13TeV-madgraphMLM-pythia8     0   165     0     0     0\n",
      "                                      WJetsToQQ_HT600to800_qc19_3j_TuneCP5_13TeV     0     9    29     0     0\n",
      "                                  WminusH_HToCC_WToLNu_M125_13TeV_powheg_pythia8     0     0     0     0     0\n",
      "                                          TTTo2L2Nu_TuneCP5_13TeV_powheg_pythia8   485     0     0     0     0\n",
      "                                       TTToHadronic_TuneCP5_13TeV_powheg_pythia8     0   219   162  4450  5157\n",
      "      ST_t-channel_top_4f_inclusiveDecays_TuneCP5_13TeV-powhegV2-madspin-pythia8   610   101     0  1194  1183\n",
      "                                        ZH_HToCC_ZToQQ_M125_13TeV_powheg_pythia8     0     0     0     0     0\n",
      "                                      DYJetsToLL_M_50_HT_800to1200_TuneCP5_13TeV     0     2     0     0     0\n",
      "                   ST_tW_antitop_5f_inclusiveDecays_TuneCP5_13TeV-powheg-pythia8    63    91    54   150   210\n",
      "                                      WJetsToQQ_HT400to600_qc19_3j_TuneCP5_13TeV     0     0   136     0     0\n",
      "                        WJetsToLNu_HT-600To800_TuneCP5_13TeV-madgraphMLM-pythia8     0     3     0     0     0\n",
      "                                      ZJetsToQQ_HT600to800_qc19_4j_TuneCP5_13TeV     0     3   106     0     0\n",
      "                                     ZJetsToQQ_HT-800toInf_qc19_4j_TuneCP5_13TeV     0    58   940     0     0\n",
      "                                                        WW_TuneCP5_13TeV-pythia8     0    72     0     0     0\n",
      "                       WJetsToLNu_HT-2500ToInf_TuneCP5_13TeV-madgraphMLM-pythia8     0     0     0     0     0\n",
      "                                      ZH_HToBB_ZToNuNu_M125_13TeV_powheg_pythia8     0     4    35     0     0\n",
      "                                                        WZ_TuneCP5_13TeV-pythia8     0   667     0     0     0\n",
      "                       ST_tW_top_5f_inclusiveDecays_TuneCP5_13TeV-powheg-pythia8    67    81    40   178   270\n",
      "                                      ggZH_HToCC_ZToQQ_M125_13TeV_powheg_pythia8     0     0     0     0     0\n",
      "                                      DYJetsToLL_M_50_HT_2500toInf_TuneCP5_13TeV     0     0     0     0     0\n",
      "                                   VBFHToBB_M_125_13TeV_powheg_pythia8_weightfix     0     0  1627     0     0\n",
      "                                       ttHTobb_M125_TuneCP5_13TeV_powheg_pythia8     0     2    11     0     0\n",
      "                                     DYJetsToLL_M_50_HT_1200to2500_TuneCP5_13TeV     0     0     0     0     0\n"
     ]
    }
   ],
   "source": [
    "nodata = re.compile(\"(?!JetHT|SingleMuon)\")\n",
    "h=hists_unmapped['sculpt_signalregion'][nodata].project(\"AK8Puppijet0_pt\", 450., overflow='over') \\\n",
    "              .sum(\"AK8Puppijet0_deepdoublec\", \"AK8Puppijet0_deepdoublecvb\", overflow='all') \\\n",
    "              .project(\"AK8Puppijet0_deepdoubleb\", slice(0.89, None), overflow='over') \\\n",
    "              .project(\"AK8Puppijet0_msd\", slice(96,138))\n",
    "print(\"%80s\"%\"dataset\", \"V(lv)\", \" No V\", \"V(qq)\", \"W(ud)b\", \"W(cs)b\")\n",
    "for k,v in h.values(overflow='all').items():\n",
    "    v *= 41.1\n",
    "    print(\"%80s %5.0f %5.0f %5.0f %5.0f %5.0f\" % (k[0], v[0], v[1], v[2:5].sum(), v[5], v[6]))"
   ]
  },
  {
   "cell_type": "code",
   "execution_count": 8,
   "metadata": {},
   "outputs": [
    {
     "ename": "AttributeError",
     "evalue": "'defaultdict_accumulator' object has no attribute 'group'",
     "output_type": "error",
     "traceback": [
      "\u001b[0;31m---------------------------------------------------------------------------\u001b[0m",
      "\u001b[0;31mAttributeError\u001b[0m                            Traceback (most recent call last)",
      "\u001b[0;32m<ipython-input-8-d95a681a277b>\u001b[0m in \u001b[0;36m<module>\u001b[0;34m()\u001b[0m\n\u001b[1;32m     22\u001b[0m \u001b[0mhists\u001b[0m \u001b[0;34m=\u001b[0m \u001b[0;34m{\u001b[0m\u001b[0;34m}\u001b[0m\u001b[0;34m\u001b[0m\u001b[0m\n\u001b[1;32m     23\u001b[0m \u001b[0;32mfor\u001b[0m \u001b[0mkey\u001b[0m \u001b[0;32min\u001b[0m \u001b[0mhists_unmapped\u001b[0m\u001b[0;34m.\u001b[0m\u001b[0mkeys\u001b[0m\u001b[0;34m(\u001b[0m\u001b[0;34m)\u001b[0m\u001b[0;34m:\u001b[0m\u001b[0;34m\u001b[0m\u001b[0m\n\u001b[0;32m---> 24\u001b[0;31m     \u001b[0mhists\u001b[0m\u001b[0;34m[\u001b[0m\u001b[0mkey\u001b[0m\u001b[0;34m]\u001b[0m \u001b[0;34m=\u001b[0m \u001b[0mhists_unmapped\u001b[0m\u001b[0;34m[\u001b[0m\u001b[0mkey\u001b[0m\u001b[0;34m]\u001b[0m\u001b[0;34m.\u001b[0m\u001b[0mgroup\u001b[0m\u001b[0;34m(\u001b[0m\u001b[0mprocess\u001b[0m\u001b[0;34m,\u001b[0m \u001b[0mprocess_cats\u001b[0m\u001b[0;34m,\u001b[0m \u001b[0mprocess_map\u001b[0m\u001b[0;34m)\u001b[0m\u001b[0;34m\u001b[0m\u001b[0m\n\u001b[0m",
      "\u001b[0;31mAttributeError\u001b[0m: 'defaultdict_accumulator' object has no attribute 'group'"
     ]
    }
   ],
   "source": [
    "process = hist.Cat(\"process\", \"Process\", sorting='placement')\n",
    "process_cats = (\"dataset\", \"AK8Puppijet0_isHadronicV\")\n",
    "process_map = OrderedDict()\n",
    "#process_map[\"QCDinZ\"] = (\"ZJets*\", 0)\n",
    "#process_map[\"QCDinW\"] = (\"WJets*\", 0)\n",
    "\n",
    "process_map[\"Hcc\"] = (\"*HToCC*\", 2)\n",
    "process_map[\"Hbb\"] = (\"*HToBB*\", 3)\n",
    "process_map[\"Wqq\"] = (\"WJetsToQQ_HT*\", 1)\n",
    "process_map[\"Wcs\"] = (\"WJetsToQQ_HT*\", 2)\n",
    "process_map[\"Zqq\"] = (\"ZJetsToQQ_HT*\", 1)\n",
    "process_map[\"Zcc\"] = (\"ZJetsToQQ_HT*\", 2)\n",
    "process_map[\"Zbb\"] = (\"ZJetsToQQ_HT*\", 3)\n",
    "top = re.compile(\"(?:ST_|TTTo)\")\n",
    "process_map[\"W top\"] = (top, slice(1,9))\n",
    "process_map[\"Merged top\"] = (top, slice(9,11))\n",
    "process_map[\"QCD\"] = (\"QCD*\", slice(None))\n",
    "unmatched = re.compile(\"(?:[WZ]JetsToQQ|ST_|TTTo|GluGluHTo)\")\n",
    "process_map[\"Unmatched\"] = (unmatched, 0)\n",
    "\n",
    "\n",
    "hists = {}\n",
    "for key in hists_unmapped.keys():\n",
    "    hists[key] = hists_unmapped[key].group(process, process_cats, process_map)"
   ]
  },
  {
   "cell_type": "code",
   "execution_count": null,
   "metadata": {},
   "outputs": [],
   "source": [
    "fill_opts = {'edgecolor': (0,0,0,0.3), 'alpha': 0.8}\n",
    "fillerr = {'label':'Stat. Unc.', 'hatch':'///', 'facecolor':'none', 'edgecolor':(0,0,0,.5), 'linewidth': 0}\n",
    "\n",
    "fig, ax, _ = hist.plot1d(hists['jetpt_signalregion'],\n",
    "                         overlay=\"process\", stack=True, fill_opts=fill_opts, error_opts=fillerr)\n",
    "ax.set_yscale('log')\n",
    "ax.set_ylim(.1,None)"
   ]
  },
  {
   "cell_type": "code",
   "execution_count": null,
   "metadata": {
    "scrolled": false
   },
   "outputs": [],
   "source": [
    "def describe(hist):\n",
    "    for ax in hist.axes():\n",
    "        print(\"Axis:\", ax)\n",
    "        print(\"    Bins:\", hist.identifiers(ax))\n",
    "\n",
    "def proj(h):\n",
    "    h = h.project(\"AK8Puppijet0_pt\", 450., overflow='over').project(\"AK8Puppijet0_msd\", slice(103, 152))\n",
    "    if 'AK8Puppijet0_deepdoubleb' in h.axes():\n",
    "        h = h.sum('AK8Puppijet0_deepdoubleb')\n",
    "    return h\n",
    "\n",
    "describe(proj(hists['nminus1_pfmet_signalregion']))"
   ]
  },
  {
   "cell_type": "code",
   "execution_count": null,
   "metadata": {},
   "outputs": [],
   "source": [
    "import matplotlib.patheffects\n",
    "fig, ax = plt.subplots(1,1)\n",
    "sig = 'Hbb'\n",
    "#bkg = 'Merged top'\n",
    "#bkgname = 'Merged top'\n",
    "bkg = re.compile(\".* top\")\n",
    "bkgname = 'Top background'\n",
    "\n",
    "btagvals, btagroc = roc(proj(hists['nminus1_antiak4btagMediumOppHem_signalregion']), bkg, sig, direction=1)\n",
    "bc = ax.plot(*btagroc(btagvals).T, label='Max. AK4 DeepCSV')\n",
    "deepcsv_wps = [0.1522, 0.4941, 0.8001]\n",
    "broc_wp = btagroc(deepcsv_wps)\n",
    "ax.plot(*broc_wp.T, marker='*', linestyle='none', color=bc[0].get_color(), markersize=10)\n",
    "for i, name in enumerate('LMT'):\n",
    "    txt = ax.text(*broc_wp[i], name, verticalalignment='top', fontweight='bold')\n",
    "    txt.set_path_effects([matplotlib.patheffects.withStroke(linewidth=1.5, foreground='w')])\n",
    "\n",
    "n3vals, n3roc = roc(proj(hists['opposite_ak8_n3sdb1_signalregion']), bkg, sig, direction=-1)\n",
    "ax.plot(*n3roc(n3vals).T, label='Subleading AK8 $N_{3}$')\n",
    "\n",
    "tau32vals, tau32roc = roc(proj(hists['opposite_ak8_tau32_signalregion']), bkg, sig, direction=-1)\n",
    "ax.plot(*tau32roc(tau32vals).T, label=r'Subleading AK8 $\\tau_{32}$')\n",
    "\n",
    "msdvals, msdroc = roc(proj(hists['opposite_ak8_msd_signalregion']), bkg, sig, direction=1)\n",
    "ax.plot(*msdroc(msdvals).T, label=r'Subleading AK8 $m_{sd}$')\n",
    "\n",
    "njetvals, njetroc = roc(proj(hists['njets_ak4_signalregion']), bkg, sig, direction=1)\n",
    "ax.plot(*njetroc(njetvals).T, label=r'Number AK4 jets')\n",
    "\n",
    "metvals, metroc = roc(proj(hists['nminus1_pfmet_signalregion']), bkg, sig, direction=1)\n",
    "mc = ax.plot(*metroc(metvals).T, label=r'PF $p_{T}^{miss}$')\n",
    "ax.plot(*metroc(140), marker='*', linestyle='none', color=mc[0].get_color(), markersize=10)\n",
    "txt = ax.text(*metroc(140), '140', verticalalignment='top', fontweight='bold')\n",
    "txt.set_path_effects([matplotlib.patheffects.withStroke(linewidth=1.5, foreground='w')])\n",
    "\n",
    "ax.plot([0,1], [0,1], linestyle='--', color='grey')\n",
    "\n",
    "ax.legend(title=\"Opposite-hemisphere cut\")\n",
    "ax.autoscale(tight=True)\n",
    "ax.set_ylabel(sig+' efficiency')\n",
    "ax.set_xlabel(bkgname+' efficiency')"
   ]
  },
  {
   "cell_type": "code",
   "execution_count": null,
   "metadata": {},
   "outputs": [],
   "source": [
    "nbins = sum(sum(arr.size for arr in h._sumw.values()) for h in hists.values())\n",
    "nfilled = sum(sum(np.sum(arr>0) for arr in h._sumw.values()) for h in hists.values())\n",
    "print(\"Now %.1fM bins\" % (nbins/1e6, ))\n",
    "print(\"Nonzero bins: %.1f%%\" % (100*nfilled/nbins, ))"
   ]
  },
  {
   "cell_type": "code",
   "execution_count": null,
   "metadata": {},
   "outputs": [],
   "source": [
    "if 'tagtensor_signalregion' in hists:\n",
    "    with gzip.open(\"tagtensor.pkl.gz\", \"wb\") as fout:\n",
    "        pickle.dump(hists['tagtensor_signalregion'], fout, protocol=2)  # for python2 compatibility"
   ]
  },
  {
   "cell_type": "code",
   "execution_count": null,
   "metadata": {},
   "outputs": [],
   "source": [
    "# check if unmatched jet in V sample is any different than QCD\n",
    "# answer was no\n",
    "if False:\n",
    "    hqcd_comp = hists['hsculpt_b'].sum(\"AK8Puppijet0_msd\")[\"QCD*\"]\n",
    "    fig,axes = hist.plotgrid(hqcd_comp, col=\"AK8Puppijet0_pt\", overlay=\"process\", error_opts={}, density=True)\n",
    "    axes[0][0].set_ylim(1e-3,None)\n",
    "    axes[0][0].set_yscale('log')"
   ]
  },
  {
   "cell_type": "code",
   "execution_count": null,
   "metadata": {},
   "outputs": [],
   "source": [
    "x = hists['tagtensor_signalregion'].sum(\"AK8Puppijet0_pt\", \"AK8Puppijet0_msd\")\n",
    "pvals = x[:,:,0.6:,0.:].sum(\"AK8Puppijet0_deepdoubleb\", \"AK8Puppijet0_deepdoublec\", \"AK8Puppijet0_deepdoublecvb\").values()\n",
    "avals = x.sum(\"AK8Puppijet0_deepdoubleb\", \"AK8Puppijet0_deepdoublec\", \"AK8Puppijet0_deepdoublecvb\").values()\n",
    "evals = {k:pvals[k]/avals[k] for k in pvals.keys()}\n",
    "evals"
   ]
  },
  {
   "cell_type": "code",
   "execution_count": 7,
   "metadata": {},
   "outputs": [
    {
     "ename": "NameError",
     "evalue": "name 'x' is not defined",
     "output_type": "error",
     "traceback": [
      "\u001b[0;31m---------------------------------------------------------------------------\u001b[0m",
      "\u001b[0;31mNameError\u001b[0m                                 Traceback (most recent call last)",
      "\u001b[0;32m<ipython-input-7-2ef09844fca2>\u001b[0m in \u001b[0;36m<module>\u001b[0;34m()\u001b[0m\n\u001b[0;32m----> 1\u001b[0;31m fig, ax, _ = hist.plot1d(x.sum(\"AK8Puppijet0_deepdoubleb\").project(\"AK8Puppijet0_deepdoublecvb\", slice(0.15,None)),\n\u001b[0m\u001b[1;32m      2\u001b[0m             \u001b[0moverlay\u001b[0m\u001b[0;34m=\u001b[0m\u001b[0;34m\"process\"\u001b[0m\u001b[0;34m,\u001b[0m \u001b[0merror_opts\u001b[0m\u001b[0;34m=\u001b[0m\u001b[0;34m{\u001b[0m\u001b[0;34m}\u001b[0m\u001b[0;34m,\u001b[0m \u001b[0mdensity\u001b[0m\u001b[0;34m=\u001b[0m\u001b[0;32mTrue\u001b[0m\u001b[0;34m\u001b[0m\u001b[0m\n\u001b[1;32m      3\u001b[0m            )\n",
      "\u001b[0;31mNameError\u001b[0m: name 'x' is not defined"
     ]
    }
   ],
   "source": [
    "fig, ax, _ = hist.plot1d(x.sum(\"AK8Puppijet0_deepdoubleb\").project(\"AK8Puppijet0_deepdoublecvb\", slice(0.15,None)),\n",
    "            overlay=\"process\", error_opts={}, density=True\n",
    "           )"
   ]
  },
  {
   "cell_type": "code",
   "execution_count": null,
   "metadata": {
    "scrolled": false
   },
   "outputs": [],
   "source": [
    "plot_opts = {'error_opts': {}, 'overflow': 'none', 'overlay_overflow': 'all', 'density': True}\n",
    "\n",
    "print(\"msd bin:\", hists['tagtensor_signalregion'].axis(\"AK8Puppijet0_msd\")[1])\n",
    "htagtensor = hists['tagtensor_signalregion'].project(\"AK8Puppijet0_msd\", overflow='none')\n",
    "htagtensor.label = \"Density\"\n",
    "\n",
    "hb = htagtensor.sum(\"AK8Puppijet0_deepdoublec\", \"AK8Puppijet0_deepdoublecvb\")\n",
    "fig1,_ = hist.plotgrid(hb, col=\"process\", overlay=\"AK8Puppijet0_pt\", **plot_opts)\n",
    "fig1.savefig(\"plots/doubleb.pdf\")\n",
    "\n",
    "hc = htagtensor.sum(\"AK8Puppijet0_deepdoubleb\", \"AK8Puppijet0_deepdoublecvb\")\n",
    "fig2,_ = hist.plotgrid(hc, col=\"process\", overlay=\"AK8Puppijet0_pt\", **plot_opts)\n",
    "fig2.savefig(\"plots/doublec.pdf\")\n",
    "\n",
    "hcvb = htagtensor.sum(\"AK8Puppijet0_deepdoubleb\", \"AK8Puppijet0_deepdoublec\")\n",
    "fig3,_ = hist.plotgrid(hcvb, col=\"process\", overlay=\"AK8Puppijet0_pt\", **plot_opts)\n",
    "fig3.savefig(\"plots/doublecvb.pdf\")"
   ]
  },
  {
   "cell_type": "code",
   "execution_count": null,
   "metadata": {},
   "outputs": [],
   "source": [
    "rocvals = htagtensor.project(\"AK8Puppijet0_pt\", slice(450,None), overflow='over') \\\n",
    "                    .sum(\"AK8Puppijet0_deepdoublec\", \"AK8Puppijet0_deepdoublecvb\")\n",
    "rocpts, rocinterp = roc(rocvals, 'QCD', 'Zbb', direction=1)\n",
    "x, y = rocinterp(rocpts).T\n",
    "\n",
    "fig, ax = plt.subplots(1,1, figsize=(5,5))\n",
    "ax.plot(x, y)\n",
    "ax.set_xlabel(\"Z(bb) jet $\\epsilon$\")\n",
    "ax.set_xlim(0,1)\n",
    "ax.set_ylabel(\"QCD jet $\\epsilon$\")\n",
    "#ax.set_yscale('log')\n",
    "ax.set_ylim(1e-3, 1)\n",
    "ax.grid(which='both')\n",
    "auc = 1-np.trapz(y, x)\n",
    "ax.set_title(\"$300 \\leq p_{T,j} < 2000, ? \\leq m_{sd} < ?$, AUC: %.3f\" % auc)\n",
    "fig.savefig(\"plots/Zbb_roc.pdf\")"
   ]
  },
  {
   "cell_type": "code",
   "execution_count": null,
   "metadata": {},
   "outputs": [],
   "source": [
    "rocvals = htagtensor.project(\"AK8Puppijet0_pt\", slice(450,None), overflow='over') \\\n",
    "                    .sum(\"AK8Puppijet0_deepdoubleb\", \"AK8Puppijet0_deepdoublecvb\")\n",
    "rocpts, rocinterp = roc(rocvals, 'QCD', 'Zcc', direction=1)\n",
    "x, y = rocinterp(rocpts).T\n",
    "\n",
    "fig, ax = plt.subplots(1,1, figsize=(5,5))\n",
    "ax.plot(x, y)\n",
    "ax.set_xlabel(\"Z(cc) jet $\\epsilon$\")\n",
    "ax.set_xlim(0,1)\n",
    "ax.set_ylabel(\"QCD jet $\\epsilon$\")\n",
    "ax.set_yscale('log')\n",
    "ax.set_ylim(1e-3, 1)\n",
    "ax.grid(which='both')\n",
    "auc = 1-np.trapz(y, x)\n",
    "ax.set_title(\"$450 \\leq p_{T,j}, ? \\leq m_{sd} < ?$, AUC: %.3f\" % auc)\n",
    "fig.savefig(\"plots/Zcc_roc.pdf\")"
   ]
  },
  {
   "cell_type": "code",
   "execution_count": null,
   "metadata": {},
   "outputs": [],
   "source": [
    "def rebin_quantile(ax, vals, quantiles, cmpLess=False):\n",
    "    quantiles.sort()\n",
    "    idir = 1 if cmpLess else -1\n",
    "    cdf = vals[::idir].cumsum()\n",
    "    cdf /= cdf[-1]\n",
    "    bins = np.searchsorted(cdf, quantiles)\n",
    "    if bins[0] > 0:\n",
    "        bins = np.insert(bins, 0, 0)\n",
    "    if bins[-1] < len(ax.edges()):\n",
    "        bins = np.append(bins, -1)\n",
    "    edges = ax.edges()[bins]\n",
    "    qbin = hist.Bin(ax.name, ax.label, edges)\n",
    "    return qbin\n"
   ]
  },
  {
   "cell_type": "code",
   "execution_count": null,
   "metadata": {},
   "outputs": [],
   "source": [
    "n2name = \"AK8Puppijet0_N2sdb1_ddt\"\n",
    "rocn2 = hists['hsculpt'].project(\"AK8Puppijet0_pt\", slice(450., None)) \\\n",
    "            .project(\"AK8Puppijet0_msd\")\n",
    "n2 = rocn2.axis(n2name)\n",
    "\n",
    "n2proj = rocn2.sum(\"AK8Puppijet0_deepdoubleb\", \"AK8Puppijet0_deepdoublec\", \"AK8Puppijet0_deepdoublecvb\", overflow='all')\n",
    "\n",
    "quantiles = np.array([0.01, 0.1, 0.2, 0.5])\n",
    "n2_coarse = rebin_quantile(n2, n2proj.values()[('QCD',)], quantiles, True)\n",
    "print(n2_coarse.edges())\n",
    "\n",
    "\n",
    "figq, axq = plt.subplots(1,1, figsize=(5,5))\n",
    "hist.plot1d(axq, n2proj['QCD'], n2, error_opts={}, density=True)\n",
    "for i,e in enumerate(n2_coarse.edges()[1:-1]):\n",
    "    axq.axvline(e, linestyle='--', color='k')\n",
    "    axq.text(e, axq.get_ylim()[1], \"QCD $\\epsilon=%.2f$\" % quantiles[i], rotation=90, va='top', ha='right')\n",
    "axq.legend()\n",
    "axq.set_xlim(-.25,.25)\n",
    "axq.set_ylim(0,None)\n",
    "axq.set_title(\"$450 \\leq p_{T,j}, 40 \\leq m_{sd} < 160$\")\n",
    "#figq.savefig(\"plots/n2_qcdquantiles.pdf\")"
   ]
  },
  {
   "cell_type": "code",
   "execution_count": null,
   "metadata": {},
   "outputs": [],
   "source": [
    "rocvals = rocn2.rebin(n2, n2_coarse).values()\n",
    "for k in rocvals.keys(): rocvals[k] = rocvals[k].cumsum(axis=-1)\n",
    "\n",
    "fig, ax = plt.subplots(1,1, figsize=(5,5))\n",
    "for i in range(n2_coarse.size-3):\n",
    "    n2bin = n2_coarse[i+1]\n",
    "    qcdeff_b, zbbeff_b = roc({k:v[:,i] for k,v in rocvals.items()}, 'QCD', 'Zbb')\n",
    "    ax.plot(zbbeff_b, qcdeff_b, label=\"%.12g\" % n2bin.hi)\n",
    "\n",
    "ax.set_xlabel(\"Z(bb) jet $\\epsilon$\")\n",
    "ax.set_xlim(0,1)\n",
    "ax.set_ylabel(\"QCD jet $\\epsilon$\")\n",
    "ax.set_yscale('log')\n",
    "ax.set_ylim(1e-3, 1)\n",
    "#ax.set_ylim(0,1)\n",
    "ax.legend(title=\"N2DDT cut\")\n",
    "ax.grid(which='both')\n",
    "ax.set_title(\"$450 \\leq p_{T,j}, 40 \\leq m_{sd} < 160$\")\n",
    "\n",
    "fig.savefig(\"plots/doubleb_roc_n2.pdf\")"
   ]
  },
  {
   "cell_type": "code",
   "execution_count": null,
   "metadata": {},
   "outputs": [],
   "source": [
    "hists['hsculpt_SR'].identifiers(\"AK8Puppijet0_deepdoublec\")"
   ]
  },
  {
   "cell_type": "code",
   "execution_count": null,
   "metadata": {},
   "outputs": [],
   "source": [
    "ptbins = hists['hsculpt_SR'].axis(\"AK8Puppijet0_pt\").identifiers()\n",
    "ptbins"
   ]
  },
  {
   "cell_type": "code",
   "execution_count": null,
   "metadata": {
    "scrolled": false
   },
   "outputs": [],
   "source": [
    "i = 0\n",
    "sculpt = hists['hsculpt_SR'] \\\n",
    "              .project(\"AK8Puppijet0_pt\", ptbins[i], overflow='over') \\\n",
    "              .sum(\"AK8Puppijet0_deepdoubleb\", overflow='all') \\\n",
    "              .project(\"AK8Puppijet0_deepdoublec\", slice(0.87, None), overflow='over') \\\n",
    "              .project(\"AK8Puppijet0_deepdoublecvb\", slice(0.20, None), overflow='over')\n",
    "#               .sum(\"AK8Puppijet0_deepdoublec\", \"AK8Puppijet0_deepdoublecvb\", overflow='all') \\\n",
    "#               .project(\"AK8Puppijet0_deepdoubleb\", slice(0.89, None), overflow='over')\n",
    "\n",
    "lumi = 41.1\n",
    "sculpt.scale(lumi)\n",
    "sculpt.label = \"Events / 7 GeV\"\n",
    "fillerr = {'label':'Stat. Unc.', 'hatch':'///', 'facecolor':'none', 'edgecolor':(0,0,0,.5), 'linewidth': 0}\n",
    "noqcd = re.compile(\"(?!QCD$).*\")\n",
    "#fig, ax, _ = hist.plot1d(sculpt[noqcd,:], overlay=\"process\", stack=True, fill_opts=fill_opts, error_opts=fillerr)\n",
    "subset = re.compile(\"H.*\")\n",
    "sculpt.label = 'Density'\n",
    "fig, ax, _ = hist.plot1d(sculpt[subset], overlay=\"process\", error_opts={}, density=False)\n",
    "ax.autoscale(axis='x', tight=True)\n",
    "#ax.set_xlim(40,166)\n",
    "ax.set_ylim(0, None)\n",
    "# ax.legend(title='DDC SR, $p_{T} \\in $%s'%str(ptbins[i]))\n",
    "ax.legend(title='DDC SR, $p_{T} > 450$')\n",
    "lumi = plt.text(1., 1., r\"%.1f fb$^{-1}$ (13 TeV)\" % lumi, fontsize=14, horizontalalignment='right', verticalalignment='bottom', transform=ax.transAxes)\n",
    "\n",
    "#fig.savefig('cc_sr_density.pdf')"
   ]
  },
  {
   "cell_type": "code",
   "execution_count": null,
   "metadata": {},
   "outputs": [],
   "source": [
    "h = hists['hsculpt_SR'].project(\"process\", \"Merged top\") \\\n",
    "              .project(\"AK8Puppijet0_pt\", slice(None)) \\\n",
    "              .sum(\"AK8Puppijet0_deepdoublec\", \"AK8Puppijet0_deepdoublecvb\", overflow='all')\n",
    "h.label = 'Density'\n",
    "fig,ax,_=hist.plot2d(h, xaxis=\"AK8Puppijet0_deepdoubleb\", patch_opts={}, density=True)\n",
    "ax.set_title(\"Merged top\")"
   ]
  },
  {
   "cell_type": "code",
   "execution_count": null,
   "metadata": {},
   "outputs": [],
   "source": [
    "hwps = hists['hsculpt'] \\\n",
    "  .project(n2, slice(None, 0.), overflow='under') \\\n",
    "  .project(\"AK8Puppijet0_pt\", slice(450., None)) \\\n",
    "  .project(\"AK8Puppijet0_msd\", slice(75, 110)) #slice(103, 145))"
   ]
  },
  {
   "cell_type": "code",
   "execution_count": null,
   "metadata": {},
   "outputs": [],
   "source": [
    "vals = hwps.values(overflow='all')\n",
    "axes = hwps.axes()[1:]\n",
    "sig = 40.*sum([v for k,v in vals.items() if 'Hbb' in k[0]])\n",
    "bkg = 40.*sum([v for k,v in vals.items() if 'Hbb' not in k[0]])"
   ]
  },
  {
   "cell_type": "code",
   "execution_count": null,
   "metadata": {},
   "outputs": [],
   "source": [
    "v = []\n",
    "for icvl, cvl in enumerate(axes[1].identifiers(overflow='all')):\n",
    "    for icvb, cvb in enumerate(axes[2].identifiers(overflow='all')):\n",
    "        ssum = sig[:,icvl:,icvb:].sum()\n",
    "        bsum = bkg[:,icvl:,icvb:].sum()\n",
    "        v.append((ssum/(np.sqrt(bsum)+1), cvl.lo, cvb.lo))"
   ]
  },
  {
   "cell_type": "code",
   "execution_count": null,
   "metadata": {},
   "outputs": [],
   "source": [
    "v = [x for x in v if x[1]!=0.84 and x[2]!=0.12]"
   ]
  },
  {
   "cell_type": "code",
   "execution_count": null,
   "metadata": {},
   "outputs": [],
   "source": [
    "v.sort(key=lambda x: x[0], reverse=True)\n",
    "for i in v[:10]:\n",
    "    print(\"CvL >= {1} CvB >= {2:.2f} S/(sqrtB+1) = {0:.4f}\".format(*i))"
   ]
  },
  {
   "cell_type": "code",
   "execution_count": null,
   "metadata": {},
   "outputs": [],
   "source": [
    "hwps = hists['hsculpt_SR'] \\\n",
    "  .project(\"AK8Puppijet0_pt\", slice(450., None)) \\\n",
    "  .project(\"AK8Puppijet0_msd\", slice(103, 145))\n",
    "#   .project(n2, slice(None, 0.), overflow='under') \\\n",
    "\n",
    "vals = hwps.values(overflow='all')\n",
    "axes = hwps.axes()[1:]\n",
    "sig = 40.*sum([v for k,v in vals.items() if 'Hbb' in k[0]])\n",
    "bkg = 40.*sum([v for k,v in vals.items() if 'Hbb' not in k[0]])\n",
    "\n",
    "v = []\n",
    "for ibvl, bvl in enumerate(axes[0].identifiers(overflow='all')):\n",
    "    ssum = sig[ibvl:,:,:].sum()\n",
    "    bsum = bkg[ibvl:,:,:].sum()\n",
    "    v.append((ssum/(np.sqrt(bsum)+1), bvl.lo))\n",
    "\n",
    "v.sort(key=lambda x: x[0], reverse=True)\n",
    "for i in v[:10]:\n",
    "    print(\"BvL >= {1} S/(sqrtB+1) = {0:.4f}\".format(*i))"
   ]
  },
  {
   "cell_type": "code",
   "execution_count": null,
   "metadata": {
    "scrolled": false
   },
   "outputs": [],
   "source": [
    "sculpt = hists['hsculpt_SR']\n",
    "hsculpt = sculpt.sum(\"AK8Puppijet0_deepdoublec\",\"AK8Puppijet0_deepdoublecvb\", overflow='all') \\\n",
    "    .project(\"AK8Puppijet0_pt\", slice(450, None), overflow='over') \\\n",
    "    .project(\"process\", \"QCD\")\n",
    "\n",
    "for ddb_bin in hsculpt.identifiers(\"AK8Puppijet0_deepdoubleb\"):\n",
    "    fig, ax = plt.subplots(1,1)\n",
    "    wp = ddb_bin.lo\n",
    "    hfail = hsculpt.project(\"AK8Puppijet0_deepdoubleb\", slice(None, wp), overflow='under')\n",
    "    hpass = hsculpt.project(\"AK8Puppijet0_deepdoubleb\", slice(wp, None), overflow='over')\n",
    "    hist.plot1d(hfail, ax=ax, clear=False, error_opts={'label': 'QCD fail'}, density=True)\n",
    "    hist.plot1d(hpass, ax=ax, clear=False, error_opts={'label': 'QCD pass'}, density=True)\n",
    "    ax.legend(title=\"ddb WP=%.2f\" % wp)\n",
    "    ax.set_title(\"AK8 $p_{T}\\geq 450$ GeV, $N_{2}^{ddt}<0$\")\n",
    "    fig.savefig(\"scuplt_ddb_wp%s.pdf\" % str(wp).replace('.','p'))"
   ]
  },
  {
   "cell_type": "code",
   "execution_count": null,
   "metadata": {},
   "outputs": [],
   "source": [
    "fig, ax = plt.subplots(1,1)\n",
    "hist.plot2d(hsculpt, xaxis=\"AK8Puppijet0_msd\", ax=ax, patch_opts={}, density=True)"
   ]
  },
  {
   "cell_type": "code",
   "execution_count": null,
   "metadata": {},
   "outputs": [],
   "source": [
    "hn2 = hists['hsculpt'][\"QCD\"] \\\n",
    "    .sum(\"process\", \"AK8Puppijet0_deepdoubleb\", \"AK8Puppijet0_deepdoublec\", \"AK8Puppijet0_deepdoublecvb\") \\\n",
    "    .project(\"AK8Puppijet0_pt\", slice(450,None))\n",
    "\n",
    "hist.plot2d(hn2, xaxis=\"AK8Puppijet0_msd\", xoverflow='over', patch_opts={})"
   ]
  },
  {
   "cell_type": "code",
   "execution_count": null,
   "metadata": {},
   "outputs": [],
   "source": [
    "# this is just a histogram I already had\n",
    "hn2 = hists['hsculpt'] \\\n",
    "    .sum(\"AK8Puppijet0_deepdoubleb\", \"AK8Puppijet0_deepdoublec\", \"AK8Puppijet0_deepdoublecvb\") \\\n",
    "    .project(\"AK8Puppijet0_pt\", slice(450,None))\n",
    "print(hn2)\n",
    "\n",
    "# we'll optimize s/sqrt(b) as a function of the mass and n2 cut\n",
    "cumsum_directions = [-1, 1] # msd >= x, n2 < x\n",
    "\n",
    "hsignif = hn2.project(\"process\")\n",
    "hsignif.clear() # just to get the axis definitions\n",
    "hsignif.label = '$S/\\sqrt{B}$'\n",
    "\n",
    "arrays = hn2.values(overflow='allnan')\n",
    "ordering = tuple(slice(None,None,d) for d in cumsum_directions)\n",
    "qcd_cdf = arrays[('QCD',)][ordering].cumsum(axis=0).cumsum(axis=1)[ordering]\n",
    "hbb_cdf = arrays[('Hbb',)][ordering].cumsum(axis=0).cumsum(axis=1)[ordering]\n",
    "signif = hbb_cdf / np.maximum(1, np.sqrt(qcd_cdf))\n",
    "hsignif._sumw = {():signif}\n",
    "hist.plot2d(hsignif, xaxis=\"AK8Puppijet0_msd\", xoverflow='over', patch_opts={})"
   ]
  },
  {
   "cell_type": "code",
   "execution_count": null,
   "metadata": {},
   "outputs": [],
   "source": [
    "hist.plot2d(hn2.project('process', 'QCD'), xaxis=\"AK8Puppijet0_msd\", patch_opts={})\n",
    "hist.plot2d(hn2.project('process', 'Hbb'), xaxis=\"AK8Puppijet0_msd\", patch_opts={})"
   ]
  },
  {
   "cell_type": "code",
   "execution_count": null,
   "metadata": {},
   "outputs": [],
   "source": []
  }
 ],
 "metadata": {
  "kernelspec": {
   "display_name": "Python 3",
   "language": "python",
   "name": "python3"
  },
  "language_info": {
   "codemirror_mode": {
    "name": "ipython",
    "version": 3
   },
   "file_extension": ".py",
   "mimetype": "text/x-python",
   "name": "python",
   "nbconvert_exporter": "python",
   "pygments_lexer": "ipython3",
   "version": "3.6.5"
  }
 },
 "nbformat": 4,
 "nbformat_minor": 2
}
